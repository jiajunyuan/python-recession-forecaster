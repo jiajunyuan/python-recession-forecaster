{
 "cells": [
  {
   "cell_type": "markdown",
   "metadata": {},
   "source": [
    "# Recession Predictor Part 1"
   ]
  },
  {
   "cell_type": "markdown",
   "metadata": {},
   "source": [
    "The United States as of today (October, 2019) has experienced the longest expansion cycle, yet the there are constant talks in the news about an impending recession. Yes, there are signs, such as the recent yield curve inversion, the market corrections in 2018 & 2019, etc. Recessions happen every 10 years or so, are we overdue for one?"
   ]
  },
  {
   "cell_type": "markdown",
   "metadata": {},
   "source": [
    "Explain other methodologies used to predict recession.\n",
    "*Federal Reserve\n",
    "*Rabobank\n",
    "*Blah\n",
    "*Blah"
   ]
  },
  {
   "cell_type": "markdown",
   "metadata": {},
   "source": [
    "Explain what I'm trying to do, not only to look at recession as a binary as NBER describes it, but also to predict future GDP in the [] futre terms."
   ]
  },
  {
   "cell_type": "markdown",
   "metadata": {},
   "source": [
    "For decision variable, we will two methods:\n",
    "1. Predicting GDP growth.\n",
    "2. Predicting probability of a recession."
   ]
  },
  {
   "cell_type": "markdown",
   "metadata": {},
   "source": [
    "## Feature Selection"
   ]
  },
  {
   "cell_type": "markdown",
   "metadata": {},
   "source": [
    "Feature selection is important, as the rule of \"garbage in, garbage out\" applies. While there are techniques and algorithms to systematically select variables, this is outside the scope of this analysis.Instead, we will rely on domain knowledge to quickly select desired feastures. The following factors are considered when selecting input indicator variables:\n",
    "* Having sufficient data, as recessions are rare occurances.\n",
    "* Having forward predictive power, which means inflection changes should lead or occur simultaneously as inflection changes in GDP.\n",
    "* Represent various aspects and mechanisms of the economy, such as a risk free benchmark, or inflation.\n",
    "* Avoid composite models or indices. The goal is to construct our own model."
   ]
  },
  {
   "cell_type": "markdown",
   "metadata": {},
   "source": [
    "For the GDP decision variable:\n",
    "* [**Real Gross Domestic Product**](https://fred.stlouisfed.org/series/GDPC1)- Inflation adjusted value of goods and services produced in a year."
   ]
  },
  {
   "cell_type": "markdown",
   "metadata": {},
   "source": [
    "For equities, the following variables are considered:\n",
    "* [S&P 500](https://finance.yahoo.com/quote/%5EGSPC?p=^GSPC)- Weighted stock index of 500 companies listed on US exchanges with the largest market cap.\n",
    "* [S&P 500 Cyclically Adjusted PE Ratio](https://www.quandl.com/data/MULTPL/SHILLER_PE_RATIO_MONTH-Shiller-PE-Ratio-by-Month) [(info)](https://www.investopedia.com/terms/c/cape-ratio.asp)- Normalizes PE ratio fluctuations over 10 year inflation-adjusted earnings. This indicator is used to gauge whether the equities market is over or under-valued.\n",
    "* [**Nonfinancial Corporate Debt as Percentage of Equity**](https://fred.stlouisfed.org/series/NCBCMDPMVCE)- Contains companies not in the S&P 500. Although this indicator excludes [% of GDP](), valuations of financial and noncorporate companies "
   ]
  },
  {
   "cell_type": "markdown",
   "metadata": {},
   "source": [
    "For bonds, the following variables are considered: \n",
    "* [10 Year Constant Maturity Minus 3 Month Treasuries Yield Spread](https://fred.stlouisfed.org/series/T10Y3M)- Federal Reserve's main methodology. Financial institutions borrow at low rates short term, to lend at high rates long term. High spread means  The data only goes back to 1982, which is not enough to train this model.\n",
    "* [**10 Year Constant Maturity Minus 3 Month Treasuries Secondary Market Yield Spread**](https://fred.stlouisfed.org/series/TB3MS)- Makes up for the lack of data in the primary market. Primary and secondary market spreads are very close today, due to electronic trading. However, the spread has been higher historically. This discrepancy is mostly caused by information inefficiency. Federal Reserve also [manipulates rates to some degree](https://fredblog.stlouisfed.org/2017/02/lets-do-the-twist/). Since this model relies on multiple input indicators, this flaw can be overlooked. \n",
    "* [10 Year Treasuries Constant Maturity Rate](https://fred.stlouisfed.org/series/DGS10)- Long term treasuries usually reflect investor sentiment regarding long term economic growth, with higher yield . This does not provide strong evidence of liquidity.\n",
    "* 3 Months Outstanding Repo [(info)](http://law.emory.edu/ecgar/content/volume-5/issue-2/essays/repo-recession-financial-regulation.html)- Hard to find on the web. Before the Great Recession, investment banks used short term repo to inject liquidity to stay afloat. Uptick in short term repo may indicate credit crunch. FRED only has records of contracts with itself as a participant, leaving out the majority of transactions."
   ]
  },
  {
   "cell_type": "markdown",
   "metadata": {},
   "source": [
    "For inflation, the following indicators are considered:\n",
    "* [**Consumer Price Index for Urban Consumers**](https://fred.stlouisfed.org/series/CPIAUCSL) [(info)](https://www.bls.gov/opub/btn/volume-3/why-does-bls-provide-both-the-cpi-w-and-cpi-u.htm)- Price inflation covering 88% of Americans, calculated from expenditures. Uses a survey to calculate the basket of goods and services. Basket is updated every 2 years. Selected due to difficulty quantifying intangible traits such as quality.\n",
    "* [Chained Consumper Price Index for Urban Consumers](https://fred.stlouisfed.org/series/SUUR0000SA0) [(info)](https://www.brookings.edu/blog/up-front/2017/12/07/the-hutchins-center-explains-the-chained-cpi/)- Lacking long term data. Similar to CPI-U, but considers substitution purchases, and weights the changes every month."
   ]
  },
  {
   "cell_type": "markdown",
   "metadata": {},
   "source": [
    "For employment, the following indicators are considered:\n",
    "* [Labor Participation Rate](https://fred.stlouisfed.org/series/CIVPART)- Percent of population over 16 actively seeking or engaged in employment. Too macro driven, such as women participation in the workforce, or retirement of Baby Boomers.\n",
    "* [**Total Nonfarm Payroll**](https://fred.stlouisfed.org/series/PAYEMS)- Accounts for 80% of workers who contribute to GDP, excluding propritors, unpaid volunteers, or farm workers.\n",
    "* [Wage Growth](https://fred.stlouisfed.org/series/CES0500000003)- Lack of long term data."
   ]
  },
  {
   "cell_type": "markdown",
   "metadata": {},
   "source": [
    "Lastly, the following indicators are not placed in any categories above, but are included because of their predictive power.\n",
    "* [**Real Private Gross Investment**](https://fred.stlouisfed.org/series/GPDIC1)- Investment represents expenditure on capital goods and residential properties. Provides an indicator for future productivity and GDP growth. Also a strong sign of economic recovery."
   ]
  },
  {
   "cell_type": "markdown",
   "metadata": {},
   "source": [
    "The following indicators were considered, but ultimately dismissed.\n",
    "* [Purchaing Managers' Index](https://www.instituteforsupplymanagement.org/ismreport/mfgrob.cfm?SSO=1)- Locked behind paywall. A survey of supply chain professionals in 19 primary industries.\n",
    "* [Composite Index of Leading Indicators](https://www.conference-board.org/data/bcicountry.cfm?cid=1) [(info)](https://www.investopedia.com/terms/c/cili.asp)- Locked behind paywall. A composite index of 10 indicators.\n",
    "* [Consumer Confidence Index](https://www.conference-board.org/data/consumerconfidence.cfm)- Locked behind paywall. A survey of consumer purchases and sentiments.\n",
    "* [VIX Volativity Index](https://fred.stlouisfed.org/series/VIXCLS)- Describes the volatility, not the direction, of stocks. Also does not describe economic strength.\n",
    "* [Effective Federal Funds Rate](https://fred.stlouisfed.org/series/FEDFUNDS)- Not an organic indicator of market conditions. Different FED chairs have different doctrines. The FED was fighting inflation in the 70s, deregulation in the 80s, inflation targeting in the 90s & 2000s, then quantitative easing in the 2010s. \n",
    "* Change in working hours- Symptom, not sign, of economic strength.\n",
    "* [Personal Savings Rate](https://fred.stlouisfed.org/series/PSAVERT)- Too macro driven, such as women entering workforce, or retirement of Baby Boomers.\n",
    "* Incremental Capital Outputs Ratio- Hard to find on the web. Calculates how much additional capital investment is needed to create growth."
   ]
  },
  {
   "cell_type": "markdown",
   "metadata": {},
   "source": [
    "## Data Preparation"
   ]
  },
  {
   "cell_type": "markdown",
   "metadata": {},
   "source": [
    "First, import the necessary packages."
   ]
  },
  {
   "cell_type": "code",
   "execution_count": 1,
   "metadata": {},
   "outputs": [],
   "source": [
    "import fredapi\n",
    "import numpy as np\n",
    "import pandas as pd\n",
    "import scipy as sp\n",
    "from functools import reduce\n",
    "import matplotlib.pyplot as plt\n",
    "import seaborn as sb\n",
    "from statsmodels.graphics.tsaplots import plot_acf, plot_pacf\n",
    "from statsmodels.tsa.stattools import adfuller\n",
    "from statsmodels.tsa.stattools import grangercausalitytests"
   ]
  },
  {
   "cell_type": "markdown",
   "metadata": {},
   "source": [
    "#### Import FRED Data"
   ]
  },
  {
   "cell_type": "markdown",
   "metadata": {},
   "source": [
    "To import FRED data, we need an API key. API key can be requested [here](https://research.stlouisfed.org/docs/api/fred/)."
   ]
  },
  {
   "cell_type": "code",
   "execution_count": 2,
   "metadata": {},
   "outputs": [],
   "source": [
    "f = fredapi.Fred(api_key='8b91217446b6307d20cb5e4fcfba70eb') # remove API when done"
   ]
  },
  {
   "cell_type": "markdown",
   "metadata": {},
   "source": [
    "Data returned by fredapi module are in \"series\" format. We need to convert them to \"dataframe\" format.\n",
    "\n",
    "We will also rename the columns so the data become easier to manipulate."
   ]
  },
  {
   "cell_type": "code",
   "execution_count": 3,
   "metadata": {},
   "outputs": [],
   "source": [
    "# monthly data.\n",
    "tbill_3m = f.get_series('TB3MS').to_frame().reset_index().rename(columns={'index':'date', 0:'tbill_3m'})\n",
    "tbill_10y = f.get_series('GS10').to_frame().reset_index().rename(columns={'index':'date', 0:'tbill_10y'})\n",
    "cpiu = f.get_series('CPIAUCSL').to_frame().reset_index().rename(columns={'index':'date', 0:'cpiu'})\n",
    "payroll = f.get_series('PAYEMS').to_frame().reset_index().rename(columns={'index':'date', 0:'payroll'})\n",
    "# quarterly data\n",
    "dtoe = f.get_series('NCBCMDPMVCE').to_frame().reset_index().rename(columns={'index':'date', 0:'dtoe'})\n",
    "pinvest = f.get_series('GPDIC1').to_frame().reset_index().rename(columns={'index':'date', 0:'pinvest'})\n",
    "gdp = f.get_series('GDPC1').to_frame().reset_index().rename(columns={'index':'date', 0:'gdp'})"
   ]
  },
  {
   "cell_type": "code",
   "execution_count": 4,
   "metadata": {},
   "outputs": [
    {
     "name": "stdout",
     "output_type": "stream",
     "text": [
      "<class 'pandas.core.frame.DataFrame'>\n"
     ]
    }
   ],
   "source": [
    "print(type(tbill_3m))"
   ]
  },
  {
   "cell_type": "markdown",
   "metadata": {},
   "source": [
    "#### Setting Start Date"
   ]
  },
  {
   "cell_type": "markdown",
   "metadata": {},
   "source": [
    "Note some data are monthly, while others are quarterly. They need to be dealt with separately."
   ]
  },
  {
   "cell_type": "markdown",
   "metadata": {},
   "source": [
    "Note that all variables have different startig dates."
   ]
  },
  {
   "cell_type": "code",
   "execution_count": 5,
   "metadata": {},
   "outputs": [
    {
     "name": "stdout",
     "output_type": "stream",
     "text": [
      "        date  tbill_3m\n",
      "0 1934-01-01      0.72\n",
      "        date  tbill_10y\n",
      "0 1953-04-01       2.83\n",
      "        date   cpiu\n",
      "0 1947-01-01  21.48\n",
      "        date  payroll\n",
      "0 1939-01-01  29923.0\n",
      "        date       dtoe\n",
      "0 1945-10-01  43.061963\n",
      "        date  pinvest\n",
      "0 1947-01-01  218.091\n",
      "        date       gdp\n",
      "0 1947-01-01  2033.061\n",
      "           date  tbill_3m\n",
      "1029 2019-10-01      1.65\n",
      "          date  tbill_10y\n",
      "798 2019-10-01       1.71\n",
      "          date     cpiu\n",
      "872 2019-09-01  256.358\n",
      "          date   payroll\n",
      "969 2019-10-01  151945.0\n",
      "          date      dtoe\n",
      "294 2019-04-01  32.87862\n",
      "          date   pinvest\n",
      "290 2019-07-01  3411.382\n",
      "          date        gdp\n",
      "290 2019-07-01  19112.542\n"
     ]
    }
   ],
   "source": [
    "print(tbill_3m.head(1))\n",
    "print(tbill_10y.head(1))\n",
    "print(cpiu.head(1))\n",
    "print(payroll.head(1))\n",
    "print(dtoe.head(1))\n",
    "print(pinvest.head(1))\n",
    "print(gdp.head(1))"
   ]
  },
  {
   "cell_type": "markdown",
   "metadata": {},
   "source": [
    "Some also have null values in the middle."
   ]
  },
  {
   "cell_type": "code",
   "execution_count": 6,
   "metadata": {
    "scrolled": true
   },
   "outputs": [
    {
     "name": "stdout",
     "output_type": "stream",
     "text": [
      "         date       dtoe\n",
      "20 1950-10-01  55.603398\n",
      "21 1951-01-01        NaN\n",
      "22 1951-04-01        NaN\n",
      "23 1951-07-01        NaN\n",
      "24 1951-10-01  53.423337\n"
     ]
    }
   ],
   "source": [
    "print(dtoe.iloc[20:25,:])"
   ]
  },
  {
   "cell_type": "markdown",
   "metadata": {},
   "source": [
    "For consistency, we will set the starting date at 1953/4/1."
   ]
  },
  {
   "cell_type": "code",
   "execution_count": 7,
   "metadata": {},
   "outputs": [],
   "source": [
    "start_date = pd.to_datetime('1953, 4')\n",
    "tbill_3m = tbill_3m[tbill_3m.iloc[:,0] >= start_date]\n",
    "tbill_10y = tbill_10y[tbill_10y.iloc[:,0] >= start_date]\n",
    "cpiu = cpiu[cpiu.iloc[:,0] >= start_date]\n",
    "payroll = payroll[payroll.iloc[:,0] >= start_date]\n",
    "pinvest = pinvest[pinvest.iloc[:,0] >= start_date]\n",
    "dtoe = dtoe[dtoe.iloc[:,0] >= start_date]\n",
    "gdp = gdp[gdp.iloc[:,0] >= start_date]"
   ]
  },
  {
   "cell_type": "markdown",
   "metadata": {},
   "source": [
    "#### Returning Treasury Spread"
   ]
  },
  {
   "cell_type": "code",
   "execution_count": 8,
   "metadata": {},
   "outputs": [],
   "source": [
    "tbill = [tbill_10y, tbill_3m]\n",
    "tbill = reduce(lambda left,right: pd.merge(left,right,on='date'), tbill)\n",
    "tbill = tbill.set_index('date')\n",
    "\n",
    "tbill['tbill_10y'] = tbill.loc[:,'tbill_10y'] - tbill.loc[:,'tbill_3m']\n",
    "tbill = tbill.drop('tbill_3m', axis=1)\n",
    "tbill = tbill.rename(columns={'tbill_10y':'tbill'})"
   ]
  },
  {
   "cell_type": "code",
   "execution_count": 9,
   "metadata": {},
   "outputs": [
    {
     "data": {
      "text/html": [
       "<div>\n",
       "<style scoped>\n",
       "    .dataframe tbody tr th:only-of-type {\n",
       "        vertical-align: middle;\n",
       "    }\n",
       "\n",
       "    .dataframe tbody tr th {\n",
       "        vertical-align: top;\n",
       "    }\n",
       "\n",
       "    .dataframe thead th {\n",
       "        text-align: right;\n",
       "    }\n",
       "</style>\n",
       "<table border=\"1\" class=\"dataframe\">\n",
       "  <thead>\n",
       "    <tr style=\"text-align: right;\">\n",
       "      <th></th>\n",
       "      <th>tbill</th>\n",
       "    </tr>\n",
       "    <tr>\n",
       "      <th>date</th>\n",
       "      <th></th>\n",
       "    </tr>\n",
       "  </thead>\n",
       "  <tbody>\n",
       "    <tr>\n",
       "      <td>1953-04-01</td>\n",
       "      <td>0.64</td>\n",
       "    </tr>\n",
       "    <tr>\n",
       "      <td>1953-05-01</td>\n",
       "      <td>0.89</td>\n",
       "    </tr>\n",
       "    <tr>\n",
       "      <td>1953-06-01</td>\n",
       "      <td>1.00</td>\n",
       "    </tr>\n",
       "    <tr>\n",
       "      <td>1953-07-01</td>\n",
       "      <td>0.89</td>\n",
       "    </tr>\n",
       "    <tr>\n",
       "      <td>1953-08-01</td>\n",
       "      <td>0.91</td>\n",
       "    </tr>\n",
       "  </tbody>\n",
       "</table>\n",
       "</div>"
      ],
      "text/plain": [
       "            tbill\n",
       "date             \n",
       "1953-04-01   0.64\n",
       "1953-05-01   0.89\n",
       "1953-06-01   1.00\n",
       "1953-07-01   0.89\n",
       "1953-08-01   0.91"
      ]
     },
     "execution_count": 9,
     "metadata": {},
     "output_type": "execute_result"
    }
   ],
   "source": [
    "tbill.head()"
   ]
  },
  {
   "cell_type": "markdown",
   "metadata": {},
   "source": [
    "#### Converting Quarterly to Monthly Data and Null Value Interpolation"
   ]
  },
  {
   "cell_type": "code",
   "execution_count": 10,
   "metadata": {},
   "outputs": [],
   "source": [
    "dtoe = dtoe.set_index('date').resample('MS').asfreq()\n",
    "pinvest = pinvest.set_index('date').resample('MS').asfreq()\n",
    "gdp = gdp.set_index('date').resample('MS').asfreq()"
   ]
  },
  {
   "cell_type": "code",
   "execution_count": 11,
   "metadata": {},
   "outputs": [
    {
     "data": {
      "text/html": [
       "<div>\n",
       "<style scoped>\n",
       "    .dataframe tbody tr th:only-of-type {\n",
       "        vertical-align: middle;\n",
       "    }\n",
       "\n",
       "    .dataframe tbody tr th {\n",
       "        vertical-align: top;\n",
       "    }\n",
       "\n",
       "    .dataframe thead th {\n",
       "        text-align: right;\n",
       "    }\n",
       "</style>\n",
       "<table border=\"1\" class=\"dataframe\">\n",
       "  <thead>\n",
       "    <tr style=\"text-align: right;\">\n",
       "      <th></th>\n",
       "      <th>gdp</th>\n",
       "    </tr>\n",
       "    <tr>\n",
       "      <th>date</th>\n",
       "      <th></th>\n",
       "    </tr>\n",
       "  </thead>\n",
       "  <tbody>\n",
       "    <tr>\n",
       "      <td>1953-04-01</td>\n",
       "      <td>2718.709</td>\n",
       "    </tr>\n",
       "    <tr>\n",
       "      <td>1953-05-01</td>\n",
       "      <td>NaN</td>\n",
       "    </tr>\n",
       "  </tbody>\n",
       "</table>\n",
       "</div>"
      ],
      "text/plain": [
       "                 gdp\n",
       "date                \n",
       "1953-04-01  2718.709\n",
       "1953-05-01       NaN"
      ]
     },
     "execution_count": 11,
     "metadata": {},
     "output_type": "execute_result"
    }
   ],
   "source": [
    "gdp.head(2)"
   ]
  },
  {
   "cell_type": "markdown",
   "metadata": {},
   "source": [
    "We will use [cublic spline interpolation](https://columbiaeconomics.com/2010/01/20/how-economists-convert-quarterly-data-into-monthly-cubic-spline-interpolation/), a technique commonly used by economists. Cubic spline has better smoothing over quadratic interpolation."
   ]
  },
  {
   "cell_type": "code",
   "execution_count": 12,
   "metadata": {},
   "outputs": [],
   "source": [
    "gdp = gdp['gdp'].interpolate(method='spline', order=3)\n",
    "dtoe = dtoe['dtoe'].interpolate(method='spline', order=3)\n",
    "pinvest = pinvest['pinvest'].interpolate(method='spline', order=3)"
   ]
  },
  {
   "cell_type": "markdown",
   "metadata": {},
   "source": [
    "Interpolation converts data to series. We need to convert back to DataFrame type."
   ]
  },
  {
   "cell_type": "code",
   "execution_count": 13,
   "metadata": {},
   "outputs": [],
   "source": [
    "gdp = gdp.to_frame().reset_index()\n",
    "dtoe = dtoe.to_frame().reset_index()\n",
    "pinvest = pinvest.to_frame().reset_index()"
   ]
  },
  {
   "cell_type": "markdown",
   "metadata": {},
   "source": [
    "## Preliminary Analysis"
   ]
  },
  {
   "cell_type": "markdown",
   "metadata": {},
   "source": [
    "Join all variables into the one dataframe."
   ]
  },
  {
   "cell_type": "code",
   "execution_count": 14,
   "metadata": {
    "scrolled": true
   },
   "outputs": [
    {
     "data": {
      "text/html": [
       "<div>\n",
       "<style scoped>\n",
       "    .dataframe tbody tr th:only-of-type {\n",
       "        vertical-align: middle;\n",
       "    }\n",
       "\n",
       "    .dataframe tbody tr th {\n",
       "        vertical-align: top;\n",
       "    }\n",
       "\n",
       "    .dataframe thead th {\n",
       "        text-align: right;\n",
       "    }\n",
       "</style>\n",
       "<table border=\"1\" class=\"dataframe\">\n",
       "  <thead>\n",
       "    <tr style=\"text-align: right;\">\n",
       "      <th></th>\n",
       "      <th>tbill</th>\n",
       "      <th>cpiu</th>\n",
       "      <th>payroll</th>\n",
       "      <th>dtoe</th>\n",
       "      <th>pinvest</th>\n",
       "      <th>gdp</th>\n",
       "    </tr>\n",
       "    <tr>\n",
       "      <th>date</th>\n",
       "      <th></th>\n",
       "      <th></th>\n",
       "      <th></th>\n",
       "      <th></th>\n",
       "      <th></th>\n",
       "      <th></th>\n",
       "    </tr>\n",
       "  </thead>\n",
       "  <tbody>\n",
       "    <tr>\n",
       "      <td>2019-03-01</td>\n",
       "      <td>0.17</td>\n",
       "      <td>254.148</td>\n",
       "      <td>150796.0</td>\n",
       "      <td>31.722101</td>\n",
       "      <td>3451.579485</td>\n",
       "      <td>18995.539134</td>\n",
       "    </tr>\n",
       "    <tr>\n",
       "      <td>2019-04-01</td>\n",
       "      <td>0.15</td>\n",
       "      <td>254.958</td>\n",
       "      <td>151012.0</td>\n",
       "      <td>32.878620</td>\n",
       "      <td>3424.653000</td>\n",
       "      <td>19021.860000</td>\n",
       "    </tr>\n",
       "  </tbody>\n",
       "</table>\n",
       "</div>"
      ],
      "text/plain": [
       "            tbill     cpiu   payroll       dtoe      pinvest           gdp\n",
       "date                                                                      \n",
       "2019-03-01   0.17  254.148  150796.0  31.722101  3451.579485  18995.539134\n",
       "2019-04-01   0.15  254.958  151012.0  32.878620  3424.653000  19021.860000"
      ]
     },
     "execution_count": 14,
     "metadata": {},
     "output_type": "execute_result"
    }
   ],
   "source": [
    "data = [tbill, cpiu, payroll, dtoe, pinvest, gdp]\n",
    "data = reduce(lambda left,right: pd.merge(left,right,on='date'), data)\n",
    "data = data.set_index('date')\n",
    "\n",
    "data.tail(2)"
   ]
  },
  {
   "cell_type": "code",
   "execution_count": 15,
   "metadata": {},
   "outputs": [
    {
     "data": {
      "text/plain": [
       "tbill      0\n",
       "cpiu       0\n",
       "payroll    0\n",
       "dtoe       0\n",
       "pinvest    0\n",
       "gdp        0\n",
       "dtype: int64"
      ]
     },
     "execution_count": 15,
     "metadata": {},
     "output_type": "execute_result"
    }
   ],
   "source": [
    "data.isnull().sum()"
   ]
  },
  {
   "cell_type": "code",
   "execution_count": 16,
   "metadata": {},
   "outputs": [
    {
     "data": {
      "text/html": [
       "<div>\n",
       "<style scoped>\n",
       "    .dataframe tbody tr th:only-of-type {\n",
       "        vertical-align: middle;\n",
       "    }\n",
       "\n",
       "    .dataframe tbody tr th {\n",
       "        vertical-align: top;\n",
       "    }\n",
       "\n",
       "    .dataframe thead th {\n",
       "        text-align: right;\n",
       "    }\n",
       "</style>\n",
       "<table border=\"1\" class=\"dataframe\">\n",
       "  <thead>\n",
       "    <tr style=\"text-align: right;\">\n",
       "      <th></th>\n",
       "      <th>tbill</th>\n",
       "      <th>cpiu</th>\n",
       "      <th>payroll</th>\n",
       "      <th>dtoe</th>\n",
       "      <th>pinvest</th>\n",
       "      <th>gdp</th>\n",
       "    </tr>\n",
       "  </thead>\n",
       "  <tbody>\n",
       "    <tr>\n",
       "      <td>count</td>\n",
       "      <td>793.000000</td>\n",
       "      <td>793.000000</td>\n",
       "      <td>793.000000</td>\n",
       "      <td>793.000000</td>\n",
       "      <td>793.000000</td>\n",
       "      <td>793.000000</td>\n",
       "    </tr>\n",
       "    <tr>\n",
       "      <td>mean</td>\n",
       "      <td>1.477011</td>\n",
       "      <td>116.719218</td>\n",
       "      <td>98634.532156</td>\n",
       "      <td>53.329095</td>\n",
       "      <td>1389.299122</td>\n",
       "      <td>9204.323371</td>\n",
       "    </tr>\n",
       "    <tr>\n",
       "      <td>std</td>\n",
       "      <td>1.163736</td>\n",
       "      <td>75.631481</td>\n",
       "      <td>31731.058247</td>\n",
       "      <td>19.547286</td>\n",
       "      <td>925.362634</td>\n",
       "      <td>4910.707601</td>\n",
       "    </tr>\n",
       "    <tr>\n",
       "      <td>min</td>\n",
       "      <td>-2.650000</td>\n",
       "      <td>26.690000</td>\n",
       "      <td>48826.000000</td>\n",
       "      <td>27.607288</td>\n",
       "      <td>258.119250</td>\n",
       "      <td>2648.605266</td>\n",
       "    </tr>\n",
       "    <tr>\n",
       "      <td>25%</td>\n",
       "      <td>0.620000</td>\n",
       "      <td>37.300000</td>\n",
       "      <td>70792.000000</td>\n",
       "      <td>37.836569</td>\n",
       "      <td>586.052264</td>\n",
       "      <td>4938.967907</td>\n",
       "    </tr>\n",
       "    <tr>\n",
       "      <td>50%</td>\n",
       "      <td>1.450000</td>\n",
       "      <td>109.500000</td>\n",
       "      <td>99121.000000</td>\n",
       "      <td>45.748693</td>\n",
       "      <td>1143.195032</td>\n",
       "      <td>8185.303000</td>\n",
       "    </tr>\n",
       "    <tr>\n",
       "      <td>75%</td>\n",
       "      <td>2.410000</td>\n",
       "      <td>181.200000</td>\n",
       "      <td>130666.000000</td>\n",
       "      <td>67.745365</td>\n",
       "      <td>2223.919596</td>\n",
       "      <td>13559.032000</td>\n",
       "    </tr>\n",
       "    <tr>\n",
       "      <td>max</td>\n",
       "      <td>4.420000</td>\n",
       "      <td>254.958000</td>\n",
       "      <td>151012.000000</td>\n",
       "      <td>103.214216</td>\n",
       "      <td>3481.088000</td>\n",
       "      <td>19021.860000</td>\n",
       "    </tr>\n",
       "  </tbody>\n",
       "</table>\n",
       "</div>"
      ],
      "text/plain": [
       "            tbill        cpiu        payroll        dtoe      pinvest  \\\n",
       "count  793.000000  793.000000     793.000000  793.000000   793.000000   \n",
       "mean     1.477011  116.719218   98634.532156   53.329095  1389.299122   \n",
       "std      1.163736   75.631481   31731.058247   19.547286   925.362634   \n",
       "min     -2.650000   26.690000   48826.000000   27.607288   258.119250   \n",
       "25%      0.620000   37.300000   70792.000000   37.836569   586.052264   \n",
       "50%      1.450000  109.500000   99121.000000   45.748693  1143.195032   \n",
       "75%      2.410000  181.200000  130666.000000   67.745365  2223.919596   \n",
       "max      4.420000  254.958000  151012.000000  103.214216  3481.088000   \n",
       "\n",
       "                gdp  \n",
       "count    793.000000  \n",
       "mean    9204.323371  \n",
       "std     4910.707601  \n",
       "min     2648.605266  \n",
       "25%     4938.967907  \n",
       "50%     8185.303000  \n",
       "75%    13559.032000  \n",
       "max    19021.860000  "
      ]
     },
     "execution_count": 16,
     "metadata": {},
     "output_type": "execute_result"
    }
   ],
   "source": [
    "data.describe()"
   ]
  },
  {
   "cell_type": "code",
   "execution_count": 17,
   "metadata": {},
   "outputs": [
    {
     "name": "stderr",
     "output_type": "stream",
     "text": [
      "/home/chrx/miniconda3/lib/python3.7/site-packages/pandas/plotting/_matplotlib/converter.py:103: FutureWarning: Using an implicitly registered datetime converter for a matplotlib plotting method. The converter was registered by pandas on import. Future versions of pandas will require you to explicitly register matplotlib converters.\n",
      "\n",
      "To register the converters:\n",
      "\t>>> from pandas.plotting import register_matplotlib_converters\n",
      "\t>>> register_matplotlib_converters()\n",
      "  warnings.warn(msg, FutureWarning)\n"
     ]
    },
    {
     "data": {
      "image/png": "[encoded data removed]",
      "text/plain": [
       "<Figure size 1200x720 with 6 Axes>"
      ]
     },
     "metadata": {
      "needs_background": "light"
     },
     "output_type": "display_data"
    }
   ],
   "source": [
    "fig, axes = plt.subplots(nrows=2, ncols=3, dpi=120, figsize=(10,6))\n",
    "for col, ax in enumerate(axes.flatten()):\n",
    "    ax.plot(data[data.columns[col]], color='red', linewidth=1)\n",
    "    ax.set_title(data.columns[col])\n",
    "    ax.tick_params(labelsize=8)\n",
    "    \n",
    "plt.tight_layout()"
   ]
  },
  {
   "cell_type": "code",
   "execution_count": 18,
   "metadata": {},
   "outputs": [
    {
     "data": {
      "image/png": "[encoded data removed]",
      "text/plain": [
       "<Figure size 720x360 with 2 Axes>"
      ]
     },
     "metadata": {
      "needs_background": "light"
     },
     "output_type": "display_data"
    }
   ],
   "source": [
    "plt.figure(figsize = (10,5))\n",
    "ax = sb.heatmap(data.corr(), xticklabels=data.columns.values, yticklabels=data.columns.values, annot=True, annot_kws={'size':12})\n",
    "bottom, top = ax.get_ylim()\n",
    "ax.set_ylim(bottom + 0.5, top - 0.5)\n",
    "plt.show()"
   ]
  },
  {
   "cell_type": "markdown",
   "metadata": {},
   "source": [
    "CPIU, PAYROLL, PINVEST, and GDP are highly correlated. This could create problems of multicollinearity. Multicollinearity reduces the statistical significance of the variables, making it difficult to pinpoint which variable is responsible for changes in GDP.\n",
    "\n",
    "Going back to the criteria set at the beginning, CPIU and PAYROLL will be removed as PINVEST has the earliest inflection point."
   ]
  },
  {
   "cell_type": "code",
   "execution_count": 19,
   "metadata": {},
   "outputs": [],
   "source": [
    "data = data.drop(['cpiu', 'payroll'], axis=1)"
   ]
  },
  {
   "cell_type": "markdown",
   "metadata": {},
   "source": [
    "#### Model Selection"
   ]
  },
  {
   "cell_type": "markdown",
   "metadata": {},
   "source": [
    "For dealing with multiple variables, a vector autoregression (VAR) model is right for the job.\n",
    "\n",
    "VAR assumes Granger causality relationship between all of the variables, in other words, all variables are dependent variables on each other. We can verify if we should reject this hypothesis."
   ]
  },
  {
   "cell_type": "markdown",
   "metadata": {},
   "source": [
    "#### Test for Autocorrelation"
   ]
  },
  {
   "cell_type": "markdown",
   "metadata": {},
   "source": [
    "GDP is highly autocorrelated. While this feature can allow a strong generalization of GDP trend (2% year-over-year growth), we are interested in the short term fluctuations."
   ]
  },
  {
   "cell_type": "code",
   "execution_count": 20,
   "metadata": {},
   "outputs": [
    {
     "data": {
      "image/png": "[encoded data removed]",
      "text/plain": [
       "<Figure size 720x432 with 2 Axes>"
      ]
     },
     "metadata": {
      "needs_background": "light"
     },
     "output_type": "display_data"
    }
   ],
   "source": [
    "fig, ax = plt.subplots(2, figsize=(10, 6))\n",
    "ax[0] = plot_acf(gdp.gdp, ax=ax[0])\n",
    "ax[1] = plot_pacf(gdp.gdp, ax=ax[1])"
   ]
  },
  {
   "cell_type": "markdown",
   "metadata": {},
   "source": [
    "#### Test for Stationarity"
   ]
  },
  {
   "cell_type": "markdown",
   "metadata": {},
   "source": [
    "It is also important for all data to be stationary, meaning the mean and variance do not "
   ]
  },
  {
   "cell_type": "code",
   "execution_count": 21,
   "metadata": {},
   "outputs": [],
   "source": [
    "class StationarityTests:\n",
    "    def __init__(self, significance=.05):\n",
    "        self.SignificanceLevel = significance\n",
    "        self.pValue = None\n",
    "        self.isStationary = None\n",
    "        \n",
    "    def ADF_Stationarity_Test(self, timeseries, printResults = True):\n",
    "\n",
    "        #Dickey-Fuller test:\n",
    "        adfTest = adfuller(timeseries, autolag='AIC')\n",
    "        \n",
    "        self.pValue = adfTest[1]\n",
    "        \n",
    "        if (self.pValue<self.SignificanceLevel):\n",
    "            self.isStationary = True\n",
    "        else:\n",
    "            self.isStationary = False\n",
    "        \n",
    "        if printResults:\n",
    "            dfResults = pd.Series(adfTest[0:4], index=['ADF Test Statistic','P-Value','# Lags Used','# Observations Used'])\n",
    "\n",
    "            #Add Critical Values\n",
    "            for key,value in adfTest[4].items():\n",
    "                dfResults['Critical Value (%s)'%key] = value\n",
    "\n",
    "            print('Augmented Dickey-Fuller Test Results:')\n",
    "            print(dfResults)"
   ]
  },
  {
   "cell_type": "code",
   "execution_count": 29,
   "metadata": {},
   "outputs": [
    {
     "name": "stdout",
     "output_type": "stream",
     "text": [
      "Augmented Dickey-Fuller Test Results:\n",
      "ADF Test Statistic       -5.092447\n",
      "P-Value                   0.000015\n",
      "# Lags Used              16.000000\n",
      "# Observations Used     776.000000\n",
      "Critical Value (1%)      -3.438805\n",
      "Critical Value (5%)      -2.865272\n",
      "Critical Value (10%)     -2.568757\n",
      "dtype: float64\n",
      "Is tbill series stationary? True\n",
      "Augmented Dickey-Fuller Test Results:\n",
      "ADF Test Statistic       -1.121154\n",
      "P-Value                   0.706563\n",
      "# Lags Used              21.000000\n",
      "# Observations Used     771.000000\n",
      "Critical Value (1%)      -3.438860\n",
      "Critical Value (5%)      -2.865296\n",
      "Critical Value (10%)     -2.568770\n",
      "dtype: float64\n",
      "Is dtoe series stationary? False\n",
      "Augmented Dickey-Fuller Test Results:\n",
      "ADF Test Statistic        0.350306\n",
      "P-Value                   0.979538\n",
      "# Lags Used              17.000000\n",
      "# Observations Used     775.000000\n",
      "Critical Value (1%)      -3.438816\n",
      "Critical Value (5%)      -2.865277\n",
      "Critical Value (10%)     -2.568760\n",
      "dtype: float64\n",
      "Is pinvest series stationary? False\n",
      "Augmented Dickey-Fuller Test Results:\n",
      "ADF Test Statistic        2.634043\n",
      "P-Value                   0.999081\n",
      "# Lags Used              19.000000\n",
      "# Observations Used     773.000000\n",
      "Critical Value (1%)      -3.438838\n",
      "Critical Value (5%)      -2.865286\n",
      "Critical Value (10%)     -2.568765\n",
      "dtype: float64\n",
      "Is gdp series stationary? False\n"
     ]
    }
   ],
   "source": [
    "sTest = StationarityTests()\n",
    "\n",
    "for var in data:\n",
    "    sTest.ADF_Stationarity_Test(data[var], printResults = True)\n",
    "    print(\"Is {} series stationary? {}\".format(var, sTest.isStationary))"
   ]
  },
  {
   "cell_type": "markdown",
   "metadata": {},
   "source": [
    "#### Data Transformation"
   ]
  },
  {
   "cell_type": "markdown",
   "metadata": {},
   "source": [
    "To make our data stationary, we will take the first difference of the log of the month(t) and its lag value. This is a mathematical way of returning percent change from the previous period:\n",
    "log(y_t) - log(y_(t-1))\n",
    "\n",
    "With the exception of TBILL, because TBILL is already stationary. Also, it is not possible to apply log function to the [value 0 or negative numbers](https://mathbitsnotebook.com/Algebra2/Exponential/EXLogFunctions.html).\n",
    "\n",
    "We could simply take the first difference, and the variables will pass the ADFuller test, but doing so does not account for trend stationarity, and the resultant values will increase steadily (2% increase from 10 vs. 2% increase from 100 is a difference of 18)."
   ]
  },
  {
   "cell_type": "markdown",
   "metadata": {},
   "source": [
    "But due to the fact that logarithmic functions cannot deal with 0, we must find an alternative."
   ]
  },
  {
   "cell_type": "code",
   "execution_count": 33,
   "metadata": {},
   "outputs": [
    {
     "data": {
      "text/html": [
       "<div>\n",
       "<style scoped>\n",
       "    .dataframe tbody tr th:only-of-type {\n",
       "        vertical-align: middle;\n",
       "    }\n",
       "\n",
       "    .dataframe tbody tr th {\n",
       "        vertical-align: top;\n",
       "    }\n",
       "\n",
       "    .dataframe thead th {\n",
       "        text-align: right;\n",
       "    }\n",
       "</style>\n",
       "<table border=\"1\" class=\"dataframe\">\n",
       "  <thead>\n",
       "    <tr style=\"text-align: right;\">\n",
       "      <th></th>\n",
       "      <th>tbill</th>\n",
       "      <th>dtoe</th>\n",
       "      <th>pinvest</th>\n",
       "      <th>gdp</th>\n",
       "    </tr>\n",
       "    <tr>\n",
       "      <th>date</th>\n",
       "      <th></th>\n",
       "      <th></th>\n",
       "      <th></th>\n",
       "      <th></th>\n",
       "    </tr>\n",
       "  </thead>\n",
       "  <tbody>\n",
       "    <tr>\n",
       "      <td>1953-05-01</td>\n",
       "      <td>4.54</td>\n",
       "      <td>0.026346</td>\n",
       "      <td>0.005578</td>\n",
       "      <td>0.000596</td>\n",
       "    </tr>\n",
       "    <tr>\n",
       "      <td>1953-06-01</td>\n",
       "      <td>4.65</td>\n",
       "      <td>0.009006</td>\n",
       "      <td>-0.008925</td>\n",
       "      <td>-0.002231</td>\n",
       "    </tr>\n",
       "    <tr>\n",
       "      <td>1953-07-01</td>\n",
       "      <td>4.54</td>\n",
       "      <td>0.010384</td>\n",
       "      <td>-0.017794</td>\n",
       "      <td>-0.004008</td>\n",
       "    </tr>\n",
       "    <tr>\n",
       "      <td>1953-08-01</td>\n",
       "      <td>4.56</td>\n",
       "      <td>-0.026829</td>\n",
       "      <td>-0.025409</td>\n",
       "      <td>-0.005272</td>\n",
       "    </tr>\n",
       "    <tr>\n",
       "      <td>1953-09-01</td>\n",
       "      <td>4.73</td>\n",
       "      <td>-0.021848</td>\n",
       "      <td>-0.025726</td>\n",
       "      <td>-0.005374</td>\n",
       "    </tr>\n",
       "  </tbody>\n",
       "</table>\n",
       "</div>"
      ],
      "text/plain": [
       "            tbill      dtoe   pinvest       gdp\n",
       "date                                           \n",
       "1953-05-01   4.54  0.026346  0.005578  0.000596\n",
       "1953-06-01   4.65  0.009006 -0.008925 -0.002231\n",
       "1953-07-01   4.54  0.010384 -0.017794 -0.004008\n",
       "1953-08-01   4.56 -0.026829 -0.025409 -0.005272\n",
       "1953-09-01   4.73 -0.021848 -0.025726 -0.005374"
      ]
     },
     "execution_count": 33,
     "metadata": {},
     "output_type": "execute_result"
    }
   ],
   "source": [
    "data_trans = np.log(data).diff(1)\n",
    "data_trans['tbill'] = data['tbill'] \n",
    "data_trans = data_trans.dropna()\n",
    "data_trans.head()"
   ]
  },
  {
   "cell_type": "code",
   "execution_count": 37,
   "metadata": {},
   "outputs": [
    {
     "name": "stderr",
     "output_type": "stream",
     "text": [
      "/home/chrx/miniconda3/lib/python3.7/site-packages/statsmodels/regression/linear_model.py:1358: RuntimeWarning: invalid value encountered in sqrt\n",
      "  return rho, np.sqrt(sigmasq)\n"
     ]
    },
    {
     "data": {
      "image/png": "[encoded data removed]",
      "text/plain": [
       "<Figure size 720x432 with 2 Axes>"
      ]
     },
     "metadata": {
      "needs_background": "light"
     },
     "output_type": "display_data"
    }
   ],
   "source": [
    "fig, ax = plt.subplots(2, figsize=(10, 6))\n",
    "ax[0] = plot_acf(data_trans.gdp, ax=ax[0])\n",
    "ax[1] = plot_pacf(data_trans.gdp, ax=ax[1])"
   ]
  },
  {
   "cell_type": "code",
   "execution_count": 27,
   "metadata": {},
   "outputs": [
    {
     "name": "stdout",
     "output_type": "stream",
     "text": [
      "Augmented Dickey-Fuller Test Results:\n",
      "ADF Test Statistic     -7.051716e+00\n",
      "P-Value                 5.504746e-10\n",
      "# Lags Used             1.800000e+01\n",
      "# Observations Used     7.730000e+02\n",
      "Critical Value (1%)    -3.438838e+00\n",
      "Critical Value (5%)    -2.865286e+00\n",
      "Critical Value (10%)   -2.568765e+00\n",
      "dtype: float64\n",
      "Is the time series stationary? True\n",
      "Augmented Dickey-Fuller Test Results:\n",
      "ADF Test Statistic     -7.295564e+00\n",
      "P-Value                 1.380922e-10\n",
      "# Lags Used             2.100000e+01\n",
      "# Observations Used     7.700000e+02\n",
      "Critical Value (1%)    -3.438871e+00\n",
      "Critical Value (5%)    -2.865301e+00\n",
      "Critical Value (10%)   -2.568773e+00\n",
      "dtype: float64\n",
      "Is the time series stationary? True\n",
      "Augmented Dickey-Fuller Test Results:\n",
      "ADF Test Statistic     -7.140535e+00\n",
      "P-Value                 3.333211e-10\n",
      "# Lags Used             1.500000e+01\n",
      "# Observations Used     7.760000e+02\n",
      "Critical Value (1%)    -3.438805e+00\n",
      "Critical Value (5%)    -2.865272e+00\n",
      "Critical Value (10%)   -2.568757e+00\n",
      "dtype: float64\n",
      "Is the time series stationary? True\n",
      "Augmented Dickey-Fuller Test Results:\n",
      "ADF Test Statistic     -6.065194e+00\n",
      "P-Value                 1.186409e-07\n",
      "# Lags Used             1.800000e+01\n",
      "# Observations Used     7.730000e+02\n",
      "Critical Value (1%)    -3.438838e+00\n",
      "Critical Value (5%)    -2.865286e+00\n",
      "Critical Value (10%)   -2.568765e+00\n",
      "dtype: float64\n",
      "Is the time series stationary? True\n"
     ]
    }
   ],
   "source": [
    "for var in data:\n",
    "    sTest.ADF_Stationarity_Test(data_trans[var], printResults = True)\n",
    "    print(\"Is the time series stationary? {0}\".format(sTest.isStationary))"
   ]
  },
  {
   "cell_type": "markdown",
   "metadata": {},
   "source": [
    "#### Setting Up Test Parameters"
   ]
  },
  {
   "cell_type": "code",
   "execution_count": 49,
   "metadata": {},
   "outputs": [
    {
     "data": {
      "text/plain": [
       "(780, 4)"
      ]
     },
     "execution_count": 49,
     "metadata": {},
     "output_type": "execute_result"
    }
   ],
   "source": [
    "x_train_6, x_test_6 = data_trans[0:-6], data_trans[-6:]\n",
    "x_train_12, x_test_12 = data_trans[0:-12], data_trans[-12:]\n",
    "x_train_24, x_test_24 = data_trans[0:-24], data_trans[-24:]"
   ]
  },
  {
   "cell_type": "code",
   "execution_count": 47,
   "metadata": {},
   "outputs": [
    {
     "data": {
      "text/html": [
       "<div>\n",
       "<style scoped>\n",
       "    .dataframe tbody tr th:only-of-type {\n",
       "        vertical-align: middle;\n",
       "    }\n",
       "\n",
       "    .dataframe tbody tr th {\n",
       "        vertical-align: top;\n",
       "    }\n",
       "\n",
       "    .dataframe thead th {\n",
       "        text-align: right;\n",
       "    }\n",
       "</style>\n",
       "<table border=\"1\" class=\"dataframe\">\n",
       "  <thead>\n",
       "    <tr style=\"text-align: right;\">\n",
       "      <th></th>\n",
       "      <th>tbill</th>\n",
       "      <th>dtoe</th>\n",
       "      <th>pinvest</th>\n",
       "      <th>gdp</th>\n",
       "    </tr>\n",
       "    <tr>\n",
       "      <th>date</th>\n",
       "      <th></th>\n",
       "      <th></th>\n",
       "      <th></th>\n",
       "      <th></th>\n",
       "    </tr>\n",
       "  </thead>\n",
       "  <tbody>\n",
       "    <tr>\n",
       "      <td>2016-12-01</td>\n",
       "      <td>5.63</td>\n",
       "      <td>-0.005164</td>\n",
       "      <td>0.002535</td>\n",
       "      <td>0.001714</td>\n",
       "    </tr>\n",
       "    <tr>\n",
       "      <td>2017-01-01</td>\n",
       "      <td>5.57</td>\n",
       "      <td>-0.016498</td>\n",
       "      <td>0.001722</td>\n",
       "      <td>0.002017</td>\n",
       "    </tr>\n",
       "    <tr>\n",
       "      <td>2017-02-01</td>\n",
       "      <td>5.55</td>\n",
       "      <td>0.006021</td>\n",
       "      <td>0.002063</td>\n",
       "      <td>0.001653</td>\n",
       "    </tr>\n",
       "    <tr>\n",
       "      <td>2017-03-01</td>\n",
       "      <td>5.39</td>\n",
       "      <td>-0.004502</td>\n",
       "      <td>0.002535</td>\n",
       "      <td>0.001772</td>\n",
       "    </tr>\n",
       "    <tr>\n",
       "      <td>2017-04-01</td>\n",
       "      <td>5.15</td>\n",
       "      <td>-0.001960</td>\n",
       "      <td>0.004163</td>\n",
       "      <td>0.001904</td>\n",
       "    </tr>\n",
       "  </tbody>\n",
       "</table>\n",
       "</div>"
      ],
      "text/plain": [
       "            tbill      dtoe   pinvest       gdp\n",
       "date                                           \n",
       "2016-12-01   5.63 -0.005164  0.002535  0.001714\n",
       "2017-01-01   5.57 -0.016498  0.001722  0.002017\n",
       "2017-02-01   5.55  0.006021  0.002063  0.001653\n",
       "2017-03-01   5.39 -0.004502  0.002535  0.001772\n",
       "2017-04-01   5.15 -0.001960  0.004163  0.001904"
      ]
     },
     "execution_count": 47,
     "metadata": {},
     "output_type": "execute_result"
    }
   ],
   "source": [
    "def grangerstest:\n",
    "    x_train = pd.DataFrame(np.zeroes(len(var), len(var))), columns=var, index=var)\n",
    "    for c in data_trans.columns:\n",
    "        for r in x_train.index:\n",
    "            res = \n",
    "        "
   ]
  },
  {
   "cell_type": "markdown",
   "metadata": {},
   "source": [
    "## Data Analysis"
   ]
  },
  {
   "cell_type": "markdown",
   "metadata": {},
   "source": [
    "## Findings"
   ]
  },
  {
   "cell_type": "markdown",
   "metadata": {},
   "source": [
    "## Limitations"
   ]
  },
  {
   "cell_type": "markdown",
   "metadata": {},
   "source": [
    "This predictor does not pinpoint the cause of a recession, but makes a general comment about the state of the economy. The underlying assumption is that these inputs are efficient enough to reflect long term market conditions, but inefficient enough to price in the short term fluctuations in GDP.\n",
    "\n",
    "When trying to quantify debt as percentage of equity, it turned out that noncoporate entities "
   ]
  },
  {
   "cell_type": "markdown",
   "metadata": {},
   "source": [
    "## Closing Thoughts"
   ]
  },
  {
   "cell_type": "markdown",
   "metadata": {},
   "source": [
    "Special thanks to Mortada Mehyar for creating fredapi. This saves some time from having to deal with JSON format."
   ]
  },
  {
   "cell_type": "markdown",
   "metadata": {},
   "source": [
    "## Part 2"
   ]
  },
  {
   "cell_type": "markdown",
   "metadata": {},
   "source": [
    "#### Data Preparation"
   ]
  },
  {
   "cell_type": "markdown",
   "metadata": {},
   "source": [
    "Let's set up recession decision variable. Difficulty joining series, so had to convert to list, append, then reconvert to series."
   ]
  },
  {
   "cell_type": "code",
   "execution_count": 26,
   "metadata": {},
   "outputs": [
    {
     "ename": "NameError",
     "evalue": "name 'recession_months' is not defined",
     "output_type": "error",
     "traceback": [
      "\u001b[0;31m---------------------------------------------------------------------------\u001b[0m",
      "\u001b[0;31mNameError\u001b[0m                                 Traceback (most recent call last)",
      "\u001b[0;32m<ipython-input-26-33bd7dda4b4d>\u001b[0m in \u001b[0;36m<module>\u001b[0;34m\u001b[0m\n\u001b[1;32m      7\u001b[0m \u001b[0;31m# Mark recession months as 1, non-recession months as 0\u001b[0m\u001b[0;34m\u001b[0m\u001b[0;34m\u001b[0m\u001b[0;34m\u001b[0m\u001b[0m\n\u001b[1;32m      8\u001b[0m \u001b[0mrecessions\u001b[0m\u001b[0;34m.\u001b[0m\u001b[0miloc\u001b[0m\u001b[0;34m[\u001b[0m\u001b[0;34m:\u001b[0m\u001b[0;34m,\u001b[0m\u001b[0;36m1\u001b[0m\u001b[0;34m]\u001b[0m \u001b[0;34m=\u001b[0m \u001b[0;36m0\u001b[0m\u001b[0;34m\u001b[0m\u001b[0;34m\u001b[0m\u001b[0m\n\u001b[0;32m----> 9\u001b[0;31m \u001b[0mrecessions\u001b[0m\u001b[0;34m.\u001b[0m\u001b[0mloc\u001b[0m\u001b[0;34m[\u001b[0m\u001b[0mrecessions\u001b[0m\u001b[0;34m.\u001b[0m\u001b[0miloc\u001b[0m\u001b[0;34m[\u001b[0m\u001b[0;34m:\u001b[0m\u001b[0;34m,\u001b[0m\u001b[0;36m0\u001b[0m\u001b[0;34m]\u001b[0m\u001b[0;34m.\u001b[0m\u001b[0misin\u001b[0m\u001b[0;34m(\u001b[0m\u001b[0mrecession_months\u001b[0m\u001b[0;34m)\u001b[0m\u001b[0;34m,\u001b[0m \u001b[0;36m0\u001b[0m\u001b[0;34m]\u001b[0m \u001b[0;34m=\u001b[0m \u001b[0;36m1\u001b[0m\u001b[0;34m\u001b[0m\u001b[0;34m\u001b[0m\u001b[0m\n\u001b[0m\u001b[1;32m     10\u001b[0m \u001b[0mrecessions\u001b[0m\u001b[0;34m.\u001b[0m\u001b[0mrename\u001b[0m\u001b[0;34m(\u001b[0m\u001b[0mcolumns\u001b[0m\u001b[0;34m=\u001b[0m\u001b[0;34m{\u001b[0m\u001b[0;34m'index'\u001b[0m\u001b[0;34m:\u001b[0m\u001b[0;34m'date'\u001b[0m\u001b[0;34m,\u001b[0m \u001b[0;36m0\u001b[0m\u001b[0;34m:\u001b[0m\u001b[0;34m'recession'\u001b[0m\u001b[0;34m}\u001b[0m\u001b[0;34m,\u001b[0m \u001b[0minplace\u001b[0m\u001b[0;34m=\u001b[0m\u001b[0;32mTrue\u001b[0m\u001b[0;34m)\u001b[0m\u001b[0;34m\u001b[0m\u001b[0;34m\u001b[0m\u001b[0m\n\u001b[1;32m     11\u001b[0m \u001b[0;34m\u001b[0m\u001b[0m\n",
      "\u001b[0;31mNameError\u001b[0m: name 'recession_months' is not defined"
     ]
    }
   ],
   "source": [
    "# Create a DataFrame for recession\n",
    "start_date = pd.to_datetime('1951, 10, 1')\n",
    "end_date = pd.to_datetime('today')\n",
    "recessions = pd.date_range(start_date, end_date, freq='MS')\n",
    "recessions = recessions.to_frame().reset_index()\n",
    "\n",
    "# Mark recession months as 1, non-recession months as 0\n",
    "recessions.iloc[:,1] = 0\n",
    "recessions.loc[recessions.iloc[:,0].isin(recession_months), 0] = 1\n",
    "recessions.rename(columns={'index':'date', 0:'recession'}, inplace=True)\n",
    "\n",
    "# possible to create lambda variables?\n",
    "\n",
    "r_1953 = pd.Series(pd.date_range(pd.to_datetime('1953, 3, 1'), pd.to_datetime('1954, 5, 1'))).tolist()\n",
    "r_1957 = pd.Series(pd.date_range(pd.to_datetime('1957, 8, 1'), pd.to_datetime('1958, 4, 1'))).tolist()\n",
    "r_1960 = pd.Series(pd.date_range(pd.to_datetime('1960, 4, 1'), pd.to_datetime('1961, 2, 1'))).tolist()\n",
    "r_1962 = pd.Series(pd.date_range(pd.to_datetime('1969, 12, 1'), pd.to_datetime('1970, 11, 1'))).tolist()\n",
    "r_1973 = pd.Series(pd.date_range(pd.to_datetime('1973, 11, 1'), pd.to_datetime('1975, 3, 1'))).tolist()\n",
    "r_1980 = pd.Series(pd.date_range(pd.to_datetime('1980, 1, 1'), pd.to_datetime('1980, 7, 1'))).tolist()\n",
    "r_1981 = pd.Series(pd.date_range(pd.to_datetime('1981, 7, 1'), pd.to_datetime('1982, 11, 1'))).tolist()\n",
    "r_1990 = pd.Series(pd.date_range(pd.to_datetime('1990, 7, 1'), pd.to_datetime('1991, 3, 1'))).tolist()\n",
    "r_2001 = pd.Series(pd.date_range(pd.to_datetime('2001, 3, 1'), pd.to_datetime('2001, 11, 1'))).tolist()\n",
    "r_2007 = pd.Series(pd.date_range(pd.to_datetime('2007, 12, 1'), pd.to_datetime('2009, 6, 1'))).tolist()\n",
    "\n",
    "print('Original series length:', len(r_1953))\n",
    "\n",
    "recession_months = pd.Series(r_1953 + r_1957 + r_1960 + r_1962 + r_1973 + r_1980 + r_1981 + r_1990 + r_2001 + r_2007)\n",
    "\n",
    "print('Verify series was appended:', len(recession_months))\n",
    "\n",
    "recessions.iloc[15:20]"
   ]
  }
 ],
 "metadata": {
  "kernelspec": {
   "display_name": "Python 3",
   "language": "python",
   "name": "python3"
  },
  "language_info": {
   "codemirror_mode": {
    "name": "ipython",
    "version": 3
   },
   "file_extension": ".py",
   "mimetype": "text/x-python",
   "name": "python",
   "nbconvert_exporter": "python",
   "pygments_lexer": "ipython3",
   "version": "3.7.3"
  }
 },
 "nbformat": 4,
 "nbformat_minor": 2
}
