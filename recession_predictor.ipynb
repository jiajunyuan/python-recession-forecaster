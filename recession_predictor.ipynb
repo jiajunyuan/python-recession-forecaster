{
 "cells": [
  {
   "cell_type": "markdown",
   "metadata": {},
   "source": [
    "# Recession Predictor"
   ]
  },
  {
   "cell_type": "markdown",
   "metadata": {},
   "source": [
    "Introduction\n",
    "Currently in the longest expansion ever. All the talk in the news about possible recession in 2020, the recent treasury interest inversion, market corrections in 2018 & 2019, and generally low investor sentiment, etc. Recessions happen every 10 years or so, are we overdue for one?"
   ]
  },
  {
   "cell_type": "markdown",
   "metadata": {},
   "source": [
    "Explain other methodologies used to predict recession.\n",
    "*Federal Reserve\n",
    "*Rabobank\n",
    "*Blah\n",
    "*Blah"
   ]
  },
  {
   "cell_type": "markdown",
   "metadata": {},
   "source": [
    "Explain what I'm trying to do, not only to look at recession as a binary as NBER describes it, but also to predict future GDP in the [] futre terms."
   ]
  },
  {
   "cell_type": "markdown",
   "metadata": {},
   "source": [
    "Explain factors considered:\n",
    "* Have sufficient data, if a dataset only has recent data, it cannot be used.\n",
    "* Changes should lead, not trail, a recession, to act as indicators.\n",
    "* "
   ]
  },
  {
   "cell_type": "markdown",
   "metadata": {},
   "source": [
    "* [10 Year Minus 3 Month Treasuries](https://fred.stlouisfed.org/series/T10Y3M)- Federal Reserve's methodology.\n",
    "* Labor Participation Rate- Too macro driven, such as women entering workforce, or retirement of Baby Boomers.\n",
    "* S&P 500 Debt to Equity Ratio- Hard to find on the web.\n",
    "* [S&P 500](https://finance.yahoo.com/quote/%5EGSPC?p=^GSPC)- Weighted stock index of 500 companies listed on US exchanges with the largest market cap.\n",
    "\n",
    "* [S&P 500 Cyclically Adjusted PE Ratio](https://www.quandl.com/data/MULTPL/SHILLER_PE_RATIO_MONTH-Shiller-PE-Ratio-by-Month)- \n",
    "* **S&P 500 RE Ratio**- Profit can be manipulated through operations or accounting, or changes in tax laws, such as Trump's tax cut. Ratio, however, cannot.\n",
    "* Equity/Money Market Ratio- Hard to find on the web. Money market volume has been artificially depressed due to FED holding low rates.\n",
    "* Personal Savings Rate- Too macro driven, such as women entering workforce, or retirement of Baby Boomers.\n",
    "* Incremental Capital Outputs Ratio- Hard to find on the web. Calculates how much additional capital investment is needed to create growth. \n",
    "* [Outstanding Short Term Repo (3 Months)](http://law.emory.edu/ecgar/content/volume-5/issue-2/essays/repo-recession-financial-regulation.html)- Hard to find on the web. Before the Great Recession, investment banks used short term repo to inject liquidity to stay afloat. Uptick in short term repo may indicate credit crunch.\n",
    "* [**Private Investment as Percent of GDP**](https://fred.stlouisfed.org/series/PNFI)- Investment represents expenditure on capital goods and residential properties. rovides an indicator for future productivity and GDP growth.\n",
    "\n",
    "* [**Delinquency in consumer loans**](https://fred.stlouisfed.org/series/DRCLACBS)- "
   ]
  },
  {
   "cell_type": "markdown",
   "metadata": {},
   "source": [
    "Factors dismissed:"
   ]
  },
  {
   "cell_type": "markdown",
   "metadata": {},
   "source": [
    "* S&P 500 PE Ratio- Opt for Cyclycally Adjusted PE Ratio instead.\n",
    "* [Purchasing Managers Index](https://www.investopedia.com/terms/p/pmi.asp)- Locked behind paywall. A monthly survey of supply chain professionals in 19 primary industries to expansion or contraction.\n",
    "* [Leading Economic Indicators Index](https://www.investopedia.com/terms/c/cili.asp)- Locked behind paywall. An index of 10 economic factors.\n",
    "* Consumer Confidence Index- Locked behind paywall. Survey of consumer purchases and sentiments.\n",
    "* VIX Volativity Index- Describes the volatility, not the direction, of stocks. Also does not describe economic strength.\n",
    "* Wage Growth- Symptom, not sign, of economic strength. Wages also has not kept up with GDP growth.\n",
    "* [**Consumer Price Index for Urban Consumers**](https://www.bls.gov/opub/btn/volume-3/why-does-bls-provide-both-the-cpi-w-and-cpi-u.htm)- Price inflation covering 88% of Americans, calculated from expenditures.\n",
    "* Effective Federal funds rate- Not an organic indicator of market conditions. Different FED chairs have different doctrines. The FED was fighting inflation in the 70s, deregulation in the 80s, inflation targeting in the 90s & 2000s, then quantitative easing based on employment data in the 2010s \n",
    "* Change in working hours- Symptom, not sign, of economic strength."
   ]
  },
  {
   "cell_type": "markdown",
   "metadata": {},
   "source": [
    "## Data Preparation"
   ]
  },
  {
   "cell_type": "markdown",
   "metadata": {},
   "source": [
    "First, import the necessary packages."
   ]
  },
  {
   "cell_type": "code",
   "execution_count": 1,
   "metadata": {},
   "outputs": [],
   "source": [
    "import fredapi\n",
    "import requests\n",
    "import pandas as pd\n",
    "import json"
   ]
  },
  {
   "cell_type": "markdown",
   "metadata": {},
   "source": [
    "Explain data source: Federal Reserve Economic Research (FRED), and Quandl"
   ]
  },
  {
   "cell_type": "markdown",
   "metadata": {},
   "source": [
    "#### FRED Data"
   ]
  },
  {
   "cell_type": "code",
   "execution_count": 2,
   "metadata": {},
   "outputs": [],
   "source": [
    "f = fredapi.Fred(api_key='8b91217446b6307d20cb5e4fcfba70eb')\n",
    "# daily data\n",
    "f_t10y3m = f.get_series('T10Y3M')\n",
    "# monthly data\n",
    "f_cpiu = f.get_series('CPIAUCSL') # assume end of period\n",
    "# quarterly data\n",
    "f_gdp = f.get_series('GDP')\n",
    "f_gdp_growth = f.get_series('A191RL1Q225SBEA')\n",
    "f_pinvest = f.get_series('PNFI') # assume end of period, need to divide by GDP to get percentage\n",
    "f_delcon = f.get_series('DRCLACBS') # end of period"
   ]
  },
  {
   "cell_type": "markdown",
   "metadata": {},
   "source": [
    "We need to convert FRED data from series into dataframe."
   ]
  },
  {
   "cell_type": "code",
   "execution_count": 3,
   "metadata": {},
   "outputs": [
    {
     "name": "stdout",
     "output_type": "stream",
     "text": [
      "<class 'pandas.core.frame.DataFrame'>\n",
      "RangeIndex: 294 entries, 0 to 293\n",
      "Data columns (total 2 columns):\n",
      "index    294 non-null datetime64[ns]\n",
      "0        290 non-null float64\n",
      "dtypes: datetime64[ns](1), float64(1)\n",
      "memory usage: 4.7 KB\n"
     ]
    }
   ],
   "source": [
    "f_gdp = f_gdp.to_frame().reset_index()\n",
    "f_gdp.info()"
   ]
  },
  {
   "cell_type": "code",
   "execution_count": 4,
   "metadata": {},
   "outputs": [],
   "source": [
    "f_t10y3m = f_t10y3m.to_frame().reset_index()\n",
    "f_cpiu = f_cpiu.to_frame().reset_index()\n",
    "f_gdp_growth = f_gdp_growth.to_frame().reset_index()\n",
    "f_pinvest = f_pinvest.to_frame().reset_index()\n",
    "f_delcon = f_delcon.to_frame().reset_index()"
   ]
  },
  {
   "cell_type": "code",
   "execution_count": 5,
   "metadata": {},
   "outputs": [],
   "source": [
    "#data = [f_t10y3m, fred_cpiu]"
   ]
  },
  {
   "cell_type": "markdown",
   "metadata": {},
   "source": [
    "#### Quandl Data"
   ]
  },
  {
   "cell_type": "code",
   "execution_count": 17,
   "metadata": {},
   "outputs": [],
   "source": [
    "q_sp500 = pd.DataFrame.from_dict(requests.get('https://www.quandl.com/api/v3/datasets/MULTPL/SP500_REAL_PRICE_MONTH.json?api_key=8ufKe7Y2JMsYPU3CGN7m').json()['dataset']['data'])\n",
    "q_sp500_pe = pd.DataFrame.from_dict(requests.get('https://www.quandl.com/api/v3/datasets/MULTPL/SHILLER_PE_RATIO_MONTH.json?api_key=8ufKe7Y2JMsYPU3CGN7m').json()['dataset']['data'])\n",
    "q_sp500_pr = pd.DataFrame.from_dict(requests.get('https://www.quandl.com/api/v3/datasets/MULTPL/SP500_PSR_QUARTER.json?api_key=8ufKe7Y2JMsYPU3CGN7m').json()['dataset']['data'])"
   ]
  },
  {
   "cell_type": "code",
   "execution_count": 19,
   "metadata": {},
   "outputs": [
    {
     "name": "stdout",
     "output_type": "stream",
     "text": [
      "<class 'pandas.core.frame.DataFrame'>\n",
      "RangeIndex: 1787 entries, 0 to 1786\n",
      "Data columns (total 2 columns):\n",
      "0    1787 non-null object\n",
      "1    1787 non-null float64\n",
      "dtypes: float64(1), object(1)\n",
      "memory usage: 28.0+ KB\n"
     ]
    }
   ],
   "source": []
  },
  {
   "cell_type": "markdown",
   "metadata": {},
   "source": [
    "We need to convert object type to datetime type."
   ]
  },
  {
   "cell_type": "code",
   "execution_count": null,
   "metadata": {},
   "outputs": [],
   "source": [
    "pe_ratio.iloc[:,0] = pd.to_datetime(pe_ratio.iloc[:,0], format='%Y-%m-%d')\n",
    "pe_ratio.info()"
   ]
  },
  {
   "cell_type": "markdown",
   "metadata": {},
   "source": [
    "Since Quandl data is taken at the beginning of the month, we will subtract 1 day to get end of month. Assuming no catastrophic changes should occur in the span of 1 day."
   ]
  },
  {
   "cell_type": "code",
   "execution_count": null,
   "metadata": {},
   "outputs": [],
   "source": [
    "pe_ratio.iloc[:,0] = pe_ratio.iloc[:,0] - pd.to_timedelta(1, unit='day')\n",
    "pe_ratio.head()"
   ]
  },
  {
   "cell_type": "markdown",
   "metadata": {},
   "source": [
    "#### Steps\n",
    "1. get json data and convert to dataframe\n",
    "2. convert fred series into dataframe\n",
    "3. convert dates into srptime type\n",
    "4. convert data to same timeframe (monthly)\n",
    "    *daily to monthly\n",
    "    *quarterly to monthly, fill in missing data\n",
    "5. find reasonable start and end time\n",
    "6. remove dates with null data\n",
    "7. join all data into same dataframe\n",
    "\n",
    "Misc.\n",
    "* table of contents & navigation"
   ]
  },
  {
   "cell_type": "markdown",
   "metadata": {},
   "source": [
    "Code Dump\n",
    "'''to view json'''\n",
    "print(json.dumps(q_pr_ratio, indent=2))\n",
    "\n",
    "'''convert json into DataFrame\n",
    "q_pe_ratio = pd.DataFrame.from_dict(r['dataset']['data'])"
   ]
  },
  {
   "cell_type": "code",
   "execution_count": null,
   "metadata": {},
   "outputs": [],
   "source": [
    "# find oldest date\n",
    "# find newest date\n",
    "\n",
    "# fred_t10y3m.head(1)\n",
    "# fred_sp500.head(1)\n",
    "# fred_cpiw.head(1)\n",
    "# fred_gdp.head(1)\n",
    "# fred_gdp_growth.head(1)\n",
    "# fred_pinvest.head(1)\n",
    "# fred_delcon.head(1)"
   ]
  },
  {
   "cell_type": "markdown",
   "metadata": {},
   "source": [
    "## Data Analysis"
   ]
  },
  {
   "cell_type": "markdown",
   "metadata": {},
   "source": [
    "## Findings"
   ]
  },
  {
   "cell_type": "markdown",
   "metadata": {},
   "source": [
    "## Limitations"
   ]
  },
  {
   "cell_type": "markdown",
   "metadata": {},
   "source": [
    "This predictor does not pinpoint the cause of a recession, but makes a general comment about the state of the economy. The underlying assumption is that these inputs are efficient enough to reflect long term market conditions, but inefficient enough to price in the short term fluctuations in GDP."
   ]
  },
  {
   "cell_type": "markdown",
   "metadata": {},
   "source": [
    "## Closing Thoughts"
   ]
  }
 ],
 "metadata": {
  "kernelspec": {
   "display_name": "Python 3",
   "language": "python",
   "name": "python3"
  },
  "language_info": {
   "codemirror_mode": {
    "name": "ipython",
    "version": 3
   },
   "file_extension": ".py",
   "mimetype": "text/x-python",
   "name": "python",
   "nbconvert_exporter": "python",
   "pygments_lexer": "ipython3",
   "version": "3.7.4"
  }
 },
 "nbformat": 4,
 "nbformat_minor": 2
}
