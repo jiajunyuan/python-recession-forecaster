{
 "cells": [
  {
   "cell_type": "markdown",
   "metadata": {},
   "source": [
    "# Recession Predictor"
   ]
  },
  {
   "cell_type": "markdown",
   "metadata": {},
   "source": [
    "Introduction"
   ]
  },
  {
   "cell_type": "markdown",
   "metadata": {},
   "source": [
    "Explain other methodologies used to predict recession.\n",
    "*Federal Reserve\n",
    "*Rabobank\n",
    "*Blah\n",
    "*Blah"
   ]
  },
  {
   "cell_type": "markdown",
   "metadata": {},
   "source": [
    "Explain what I'm trying to do, not only to look at recession as a binary as NBER describes it, but also to predict future GDP in the [] futre terms."
   ]
  },
  {
   "cell_type": "markdown",
   "metadata": {},
   "source": [
    "Explain factors considered:\n",
    "* **10 year - 3 month treasuries**- Federal Reserve's methodology.\n",
    "* Labor participation rate- Too macro driven, such as women entering workforce, or retirement of Baby Boomers.\n",
    "* S&P 500 debt to equity ratio\n",
    "* S&P 500\n",
    "* S&P 500 PE ratio\n",
    "* S&P 500 RE ratio\n",
    "* Shiller Cyclically Adjusted PE ratio\n",
    "* Equity/money market ratio\n",
    "* Personal savings rate- Too macro driven, such as women entering workforce, or retirement of Baby Boomers.\n",
    "* Incremental capital outputs ratio- Hard to find on the web.\n",
    "* Outstanding short term repo\n",
    "* Private investment as percent of GDP\n",
    "* Purchasing Managers Index- \n",
    "* Leading Economic Indicators Index- Locked behind paywall.\n",
    "* Consumer confidence Index- Locked behind paywall.\n",
    "* Economic Optimism Index- Locked behind paywall.\n",
    "* VIX Volativity Index- describes the volatility, not the trend of the \n",
    "* Wage growth\n",
    "* CPI-W Inflation\n",
    "* Effective Federal funds rate\n",
    "* Change in working hours\n",
    "* Delinquency in consumer loans"
   ]
  },
  {
   "cell_type": "markdown",
   "metadata": {},
   "source": [
    "## Data Preparation"
   ]
  },
  {
   "cell_type": "markdown",
   "metadata": {},
   "source": [
    "First, import the necessary packages."
   ]
  },
  {
   "cell_type": "code",
   "execution_count": 1,
   "metadata": {},
   "outputs": [],
   "source": [
    "import fredapi\n",
    "import requests\n",
    "import pandas as pd\n",
    "import json"
   ]
  },
  {
   "cell_type": "markdown",
   "metadata": {},
   "source": [
    "Explain data source: Federal Reserve Economic Research (FRED), and Quandl"
   ]
  },
  {
   "cell_type": "markdown",
   "metadata": {},
   "source": [
    "Get Federal Reserve data."
   ]
  },
  {
   "cell_type": "code",
   "execution_count": 2,
   "metadata": {},
   "outputs": [],
   "source": [
    "fred = fredapi.Fred(api_key='8b91217446b6307d20cb5e4fcfba70eb')\n",
    "# daily data\n",
    "fred_t10y3m = fred.get_series('T10Y3M')\n",
    "fred_sp500 = fred.get_series('SP500')\n",
    "# monthly data\n",
    "fred_cpiw = fred.get_series('CWUR0000SA0') # assume end of period\n",
    "# quarterly data\n",
    "fred_gdp = fred.get_series('GDP')\n",
    "fred_gdp_growth = fred.get_series('A191RL1Q225SBEA')\n",
    "fred_pinvest = fred.get_series('A006RE1Q156NBEA') # assume end of period\n",
    "fred_delcon = fred.get_series('DRCLACBS') # end of period"
   ]
  },
  {
   "cell_type": "markdown",
   "metadata": {},
   "source": [
    "We need to convert FRED data from series into dataframe."
   ]
  },
  {
   "cell_type": "code",
   "execution_count": 4,
   "metadata": {},
   "outputs": [
    {
     "name": "stdout",
     "output_type": "stream",
     "text": [
      "<class 'pandas.core.frame.DataFrame'>\n",
      "RangeIndex: 294 entries, 0 to 293\n",
      "Data columns (total 2 columns):\n",
      "index    294 non-null datetime64[ns]\n",
      "0        290 non-null float64\n",
      "dtypes: datetime64[ns](1), float64(1)\n",
      "memory usage: 4.7 KB\n"
     ]
    }
   ],
   "source": [
    "fred_gdp = fred_gdp.to_frame().reset_index()\n",
    "fred_gdp.info()"
   ]
  },
  {
   "cell_type": "code",
   "execution_count": 5,
   "metadata": {},
   "outputs": [],
   "source": [
    "fred_t10y3m = fred_t10y3m.to_frame().reset_index()\n",
    "fred_sp500 = fred_sp500.to_frame().reset_index()\n",
    "fred_cpiw = fred_cpiw.to_frame().reset_index()\n",
    "fred_gdp_growth = fred_gdp_growth.to_frame().reset_index()\n",
    "fred_pinvest = fred_pinvest.to_frame().reset_index()\n",
    "fred_delcon = fred_delcon.to_frame().reset_index()"
   ]
  },
  {
   "cell_type": "code",
   "execution_count": 11,
   "metadata": {},
   "outputs": [
    {
     "data": {
      "text/html": [
       "<div>\n",
       "<style scoped>\n",
       "    .dataframe tbody tr th:only-of-type {\n",
       "        vertical-align: middle;\n",
       "    }\n",
       "\n",
       "    .dataframe tbody tr th {\n",
       "        vertical-align: top;\n",
       "    }\n",
       "\n",
       "    .dataframe thead th {\n",
       "        text-align: right;\n",
       "    }\n",
       "</style>\n",
       "<table border=\"1\" class=\"dataframe\">\n",
       "  <thead>\n",
       "    <tr style=\"text-align: right;\">\n",
       "      <th></th>\n",
       "      <th>index</th>\n",
       "      <th>0</th>\n",
       "    </tr>\n",
       "  </thead>\n",
       "  <tbody>\n",
       "    <tr>\n",
       "      <td>0</td>\n",
       "      <td>1946-01-01</td>\n",
       "      <td>NaN</td>\n",
       "    </tr>\n",
       "    <tr>\n",
       "      <td>1</td>\n",
       "      <td>1946-04-01</td>\n",
       "      <td>NaN</td>\n",
       "    </tr>\n",
       "    <tr>\n",
       "      <td>2</td>\n",
       "      <td>1946-07-01</td>\n",
       "      <td>NaN</td>\n",
       "    </tr>\n",
       "    <tr>\n",
       "      <td>3</td>\n",
       "      <td>1946-10-01</td>\n",
       "      <td>NaN</td>\n",
       "    </tr>\n",
       "    <tr>\n",
       "      <td>4</td>\n",
       "      <td>1947-01-01</td>\n",
       "      <td>243.164</td>\n",
       "    </tr>\n",
       "  </tbody>\n",
       "</table>\n",
       "</div>"
      ],
      "text/plain": [
       "       index        0\n",
       "0 1946-01-01      NaN\n",
       "1 1946-04-01      NaN\n",
       "2 1946-07-01      NaN\n",
       "3 1946-10-01      NaN\n",
       "4 1947-01-01  243.164"
      ]
     },
     "execution_count": 11,
     "metadata": {},
     "output_type": "execute_result"
    }
   ],
   "source": [
    "fred_gdp.head()"
   ]
  },
  {
   "cell_type": "code",
   "execution_count": null,
   "metadata": {},
   "outputs": [],
   "source": []
  },
  {
   "cell_type": "code",
   "execution_count": 24,
   "metadata": {},
   "outputs": [
    {
     "data": {
      "text/html": [
       "<div>\n",
       "<style scoped>\n",
       "    .dataframe tbody tr th:only-of-type {\n",
       "        vertical-align: middle;\n",
       "    }\n",
       "\n",
       "    .dataframe tbody tr th {\n",
       "        vertical-align: top;\n",
       "    }\n",
       "\n",
       "    .dataframe thead th {\n",
       "        text-align: right;\n",
       "    }\n",
       "</style>\n",
       "<table border=\"1\" class=\"dataframe\">\n",
       "  <thead>\n",
       "    <tr style=\"text-align: right;\">\n",
       "      <th></th>\n",
       "      <th>0</th>\n",
       "      <th>1</th>\n",
       "    </tr>\n",
       "  </thead>\n",
       "  <tbody>\n",
       "    <tr>\n",
       "      <td>0</td>\n",
       "      <td>2019-10-01</td>\n",
       "      <td>29.03</td>\n",
       "    </tr>\n",
       "    <tr>\n",
       "      <td>1</td>\n",
       "      <td>2019-09-01</td>\n",
       "      <td>28.91</td>\n",
       "    </tr>\n",
       "    <tr>\n",
       "      <td>2</td>\n",
       "      <td>2019-08-01</td>\n",
       "      <td>28.91</td>\n",
       "    </tr>\n",
       "    <tr>\n",
       "      <td>3</td>\n",
       "      <td>2019-07-01</td>\n",
       "      <td>30.26</td>\n",
       "    </tr>\n",
       "    <tr>\n",
       "      <td>4</td>\n",
       "      <td>2019-06-01</td>\n",
       "      <td>29.47</td>\n",
       "    </tr>\n",
       "  </tbody>\n",
       "</table>\n",
       "</div>"
      ],
      "text/plain": [
       "            0      1\n",
       "0  2019-10-01  29.03\n",
       "1  2019-09-01  28.91\n",
       "2  2019-08-01  28.91\n",
       "3  2019-07-01  30.26\n",
       "4  2019-06-01  29.47"
      ]
     },
     "execution_count": 24,
     "metadata": {},
     "output_type": "execute_result"
    }
   ],
   "source": [
    "r = requests.get('https://www.quandl.com/api/v3/datasets/MULTPL/SHILLER_PE_RATIO_MONTH.json?api_key=8ufKe7Y2JMsYPU3CGN7m')\n",
    "#df = pd.DataFrame.from_dict(pd.io.json.json_normalize(pe_ratio), orient='columns')\n",
    "pe_ratio_json = r.json()\n",
    "#print(json.dumps(pe_ratio, indent=2))\n",
    "\n",
    "pe_ratio = pd.DataFrame.from_dict(pe_ratio_json['dataset']['data'])\n",
    "\n",
    "pe_ratio.head(5)"
   ]
  },
  {
   "cell_type": "code",
   "execution_count": 8,
   "metadata": {},
   "outputs": [
    {
     "name": "stdout",
     "output_type": "stream",
     "text": [
      "<class 'pandas.core.frame.DataFrame'>\n",
      "RangeIndex: 1786 entries, 0 to 1785\n",
      "Data columns (total 2 columns):\n",
      "0    1786 non-null object\n",
      "1    1786 non-null float64\n",
      "dtypes: float64(1), object(1)\n",
      "memory usage: 28.0+ KB\n"
     ]
    }
   ],
   "source": [
    "pe_ratio.info()"
   ]
  },
  {
   "cell_type": "markdown",
   "metadata": {},
   "source": [
    "We need to convert object type to datetime type."
   ]
  },
  {
   "cell_type": "code",
   "execution_count": 25,
   "metadata": {},
   "outputs": [
    {
     "name": "stdout",
     "output_type": "stream",
     "text": [
      "<class 'pandas.core.frame.DataFrame'>\n",
      "RangeIndex: 1786 entries, 0 to 1785\n",
      "Data columns (total 2 columns):\n",
      "0    1786 non-null datetime64[ns]\n",
      "1    1786 non-null float64\n",
      "dtypes: datetime64[ns](1), float64(1)\n",
      "memory usage: 28.0 KB\n"
     ]
    }
   ],
   "source": [
    "pe_ratio.iloc[:,0] = pd.to_datetime(pe_ratio.iloc[:,0], format='%Y-%m-%d')\n",
    "pe_ratio.info()"
   ]
  },
  {
   "cell_type": "markdown",
   "metadata": {},
   "source": [
    "Since Quandl data is taken at the beginning of the month, we will subtract 1 day to get end of month. Assuming no catastrophic changes should occur in the span of 1 day."
   ]
  },
  {
   "cell_type": "code",
   "execution_count": 27,
   "metadata": {},
   "outputs": [
    {
     "data": {
      "text/html": [
       "<div>\n",
       "<style scoped>\n",
       "    .dataframe tbody tr th:only-of-type {\n",
       "        vertical-align: middle;\n",
       "    }\n",
       "\n",
       "    .dataframe tbody tr th {\n",
       "        vertical-align: top;\n",
       "    }\n",
       "\n",
       "    .dataframe thead th {\n",
       "        text-align: right;\n",
       "    }\n",
       "</style>\n",
       "<table border=\"1\" class=\"dataframe\">\n",
       "  <thead>\n",
       "    <tr style=\"text-align: right;\">\n",
       "      <th></th>\n",
       "      <th>0</th>\n",
       "      <th>1</th>\n",
       "    </tr>\n",
       "  </thead>\n",
       "  <tbody>\n",
       "    <tr>\n",
       "      <td>0</td>\n",
       "      <td>2019-09-30</td>\n",
       "      <td>29.03</td>\n",
       "    </tr>\n",
       "    <tr>\n",
       "      <td>1</td>\n",
       "      <td>2019-08-31</td>\n",
       "      <td>28.91</td>\n",
       "    </tr>\n",
       "    <tr>\n",
       "      <td>2</td>\n",
       "      <td>2019-07-31</td>\n",
       "      <td>28.91</td>\n",
       "    </tr>\n",
       "    <tr>\n",
       "      <td>3</td>\n",
       "      <td>2019-06-30</td>\n",
       "      <td>30.26</td>\n",
       "    </tr>\n",
       "    <tr>\n",
       "      <td>4</td>\n",
       "      <td>2019-05-31</td>\n",
       "      <td>29.47</td>\n",
       "    </tr>\n",
       "  </tbody>\n",
       "</table>\n",
       "</div>"
      ],
      "text/plain": [
       "           0      1\n",
       "0 2019-09-30  29.03\n",
       "1 2019-08-31  28.91\n",
       "2 2019-07-31  28.91\n",
       "3 2019-06-30  30.26\n",
       "4 2019-05-31  29.47"
      ]
     },
     "execution_count": 27,
     "metadata": {},
     "output_type": "execute_result"
    }
   ],
   "source": [
    "pe_ratio.iloc[:,0] = pe_ratio.iloc[:,0] - pd.to_timedelta(1, unit='day')\n",
    "pe_ratio.head()"
   ]
  },
  {
   "cell_type": "markdown",
   "metadata": {},
   "source": [
    "#### Steps\n",
    "1. get json data and convert to dataframe\n",
    "2. convert fred series into dataframe\n",
    "3. convert dates into srptime type\n",
    "4. convert data to same timeframe (monthly)\n",
    "    *daily to monthly\n",
    "    *quarterly to monthly, fill in missing data\n",
    "5. find reasonable start and end time\n",
    "6. remove dates with null data\n",
    "7. join all data into same dataframe\n",
    "\n",
    "Misc.\n",
    "* table of contents & navigation"
   ]
  },
  {
   "cell_type": "code",
   "execution_count": 9,
   "metadata": {},
   "outputs": [],
   "source": [
    "# find oldest date\n",
    "# find newest date\n",
    "\n",
    "# fred_t10y3m.head(1)\n",
    "# fred_sp500.head(1)\n",
    "# fred_cpiw.head(1)\n",
    "# fred_gdp.head(1)\n",
    "# fred_gdp_growth.head(1)\n",
    "# fred_pinvest.head(1)\n",
    "# fred_delcon.head(1)"
   ]
  },
  {
   "cell_type": "markdown",
   "metadata": {},
   "source": [
    "## Data Analysis"
   ]
  },
  {
   "cell_type": "markdown",
   "metadata": {},
   "source": [
    "## Findings"
   ]
  },
  {
   "cell_type": "markdown",
   "metadata": {},
   "source": [
    "## Limitations"
   ]
  },
  {
   "cell_type": "markdown",
   "metadata": {},
   "source": [
    "This predictor does not pinpoint the cause of a recession, but makes a general comment about the state of the economy. The underlying assumption is that these inputs are efficient enough to reflect long term market conditions, but inefficient enough to price in the short term fluctuations in GDP."
   ]
  },
  {
   "cell_type": "markdown",
   "metadata": {},
   "source": [
    "## Closing Thoughts"
   ]
  }
 ],
 "metadata": {
  "kernelspec": {
   "display_name": "Python 3",
   "language": "python",
   "name": "python3"
  },
  "language_info": {
   "codemirror_mode": {
    "name": "ipython",
    "version": 3
   },
   "file_extension": ".py",
   "mimetype": "text/x-python",
   "name": "python",
   "nbconvert_exporter": "python",
   "pygments_lexer": "ipython3",
   "version": "3.7.4"
  }
 },
 "nbformat": 4,
 "nbformat_minor": 2
}
