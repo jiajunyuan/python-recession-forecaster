{
 "cells": [
  {
   "cell_type": "markdown",
   "metadata": {},
   "source": [
    "# Recession Forecaster"
   ]
  },
  {
   "cell_type": "markdown",
   "metadata": {},
   "source": [
    "The United States as of today (October, 2019) has experienced the longest expansion cycle, yet the there are constant talks in the news about an impending recession. Yes, there are signs, such as the recent yield curve inversion, the market corrections in 2018 & 2019, etc. Recessions happen every 10 years or so, are we overdue for one?\n",
    "\n",
    "The first part is to predict GDP growth using regression, because NBER defines a recession as [\"a significant decline in economic activity\"](https://www.nber.org/cycles.html), not 2 consequtive quarters of deline in real GDP. The second part is to return a probabilistic model based on classification, similar to the [Bloomberg Recession Tracker](https://www.bloomberg.com/graphics/us-economic-recession-tracker/)."
   ]
  },
  {
   "cell_type": "markdown",
   "metadata": {},
   "source": [
    "## Part 1"
   ]
  },
  {
   "cell_type": "markdown",
   "metadata": {},
   "source": [
    "### Feature Selection"
   ]
  },
  {
   "cell_type": "markdown",
   "metadata": {},
   "source": [
    "While there are techniques and algorithms to systematically select variables, this is outside the scope of this analysis. Instead, we will rely on domain knowledge. The following factors are considered when selecting input variables:\n",
    "* Having sufficient data, as recessions are rare occurances.\n",
    "* Having forward predictive power, which means inflection changes should occur before occur simultaneously as inflection changes in GDP.\n",
    "* Represent various aspects or mechanisms of the economy, such as a risk free benchmark.\n",
    "* Avoid composite models or indices, as the goal is to construct our own model.\n",
    "\n",
    "This selection is not final, as the model may dictate the addition or removal of certain variables.\n",
    "\n",
    "For the GDP decision variable:\n",
    "* [**Real Gross Domestic Product**](https://fred.stlouisfed.org/series/GDPC1)- Inflation adjusted value of goods and services produced in a year.\n",
    "\n",
    "For equities, the following variables are considered:\n",
    "* [S&P 500](https://finance.yahoo.com/quote/%5EGSPC?p=^GSPC)- Weighted stock index of 500 companies listed on US exchanges with the largest market cap.\n",
    "* [**S&P 500 Cyclically Adjusted PE Ratio**](https://www.quandl.com/data/MULTPL/SHILLER_PE_RATIO_MONTH-Shiller-PE-Ratio-by-Month) [(info)](https://www.investopedia.com/terms/c/cape-ratio.asp)- Normalizes PE ratio fluctuations over 10 year inflation-adjusted earnings. This indicator is used to gauge whether the equities market is over or under-valued.\n",
    "* [**Nonfinancial Corporate Debt as Percentage of Equity**](https://fred.stlouisfed.org/series/NCBCMDPMVCE)- Contains companies outside of the S&P500. Constructed using balance sheet valuations.\n",
    "\n",
    "For bonds, the following variables are considered: \n",
    "* [10 Year Constant Maturity Minus 3 Month Treasuries Yield Spread](https://fred.stlouisfed.org/series/T10Y3M)- Federal Reserve's main methodology. Financial institutions borrow at low rates short term, to lend at high rates long term. Long term treasury yield tends to be stable, but short term yields are more volatile, and subject to [Federal Reserve interventions](https://fredblog.stlouisfed.org/2017/02/lets-do-the-twist/). The data only goes back to 1982, which is not enough to train this model.\n",
    "* [**10 Year Constant Maturity Minus 3 Month Treasuries Secondary Market Yield Spread**](https://fred.stlouisfed.org/series/TB3MS)- Makes up for the lack of data in the primary market. Primary and secondary market spreads are very close today, due to increased efficiency from electronic trading. Historically, the spread has been higher.\n",
    "* [10 Year Treasuries Constant Maturity Rate](https://fred.stlouisfed.org/series/DGS10)- Long term treasuries usually reflect investor sentiment regarding long term economic growth. However, this metric alone does not provide evidence of short term liquidity.\n",
    "* 3 Months Outstanding Repo [(info)](http://law.emory.edu/ecgar/content/volume-5/issue-2/essays/repo-recession-financial-regulation.html)- Before the Great Recession, investment banks used short term repo to inject liquidity to stay afloat. Uptick in short term repo may indicate credit crunch. FRED only has records of contracts with itself as a participant, leaving out the majority of transactions. Data on market transactions were difficult to find.\n",
    "\n",
    "For inflation, the following indicators are considered:\n",
    "* [**Consumer Price Index for Urban Consumers**](https://fred.stlouisfed.org/series/CPIAUCSL) [(info)](https://www.bls.gov/opub/btn/volume-3/why-does-bls-provide-both-the-cpi-w-and-cpi-u.htm)- Price inflation covering 88% of Americans, calculated from expenditures. Uses a survey to calculate the basket of goods and services. Basket is updated every 2 years. Selected due to difficulty quantifying intangible traits such as quality.\n",
    "* [Chained Consumper Price Index for Urban Consumers](https://fred.stlouisfed.org/series/SUUR0000SA0) [(info)](https://www.brookings.edu/blog/up-front/2017/12/07/the-hutchins-center-explains-the-chained-cpi/)- Similar to CPI-U, but considers substitution purchases, and weights the changes every month. Lacking long term data.\n",
    "\n",
    "For employment, the following indicators are considered:\n",
    "* [Labor Participation Rate](https://fred.stlouisfed.org/series/CIVPART)- Percent of population over 16 actively seeking or engaged in employment. Strongly driven by demographic trends, such as women participation in the workforce, or retirement of Baby Boomers.\n",
    "* [**Total Nonfarm Payroll**](https://fred.stlouisfed.org/series/PAYEMS)- Size of the labor force, accounting for 80% of workers who contribute to GDP, excluding propritors, unpaid volunteers, or farm workers.\n",
    "* [Wage Growth](https://fred.stlouisfed.org/series/CES0500000003)- When labor demand outstrips supply, wages increase, and vise versa. Lack of long term data.\n",
    "\n",
    "Lastly, the following indicators are not placed in any categories above, but are included because of their predictive power.\n",
    "* [**Real Private Gross Investment**](https://fred.stlouisfed.org/series/GPDIC1)- Investment represents expenditure on capital goods and residential properties. Provides an indicator for future productivity and GDP growth. Also a strong sign of economic recovery.\n",
    "\n",
    "The following indicators were considered, but ultimately dismissed.\n",
    "* [Purchaing Managers' Index](https://www.instituteforsupplymanagement.org/ismreport/mfgrob.cfm?SSO=1)- A survey of supply chain professionals in 19 primary industries. Locked behind paywall.\n",
    "* [Composite Index of Leading Indicators](https://www.conference-board.org/data/bcicountry.cfm?cid=1) [(info)](https://www.investopedia.com/terms/c/cili.asp)- A composite index of 10 indicators. Locked behind paywall.\n",
    "* [Consumer Confidence Index](https://www.conference-board.org/data/consumerconfidence.cfm)- A survey of consumer purchases and sentiments. Locked behind paywall.\n",
    "* [VIX Volativity Index](https://fred.stlouisfed.org/series/VIXCLS)- Describes the volatility, but not the direction, of stocks.\n",
    "* [Effective Federal Funds Rate](https://fred.stlouisfed.org/series/FEDFUNDS)- FED has the most control of this rate, which means it is unfiltered by market forces. Secondly, FED pursued different doctrines throughout history, it was fighting inflation in the 70s, supporting deregulation in the 80s, inflation targeting in the 90s & 2000s, then quantitative easing in the 2010s.\n",
    "* [Personal Savings Rate](https://fred.stlouisfed.org/series/PSAVERT)- Strongly driven by demographic trends, such as women entering workforce, or retirement of Baby Boomers.\n",
    "* [Incremental Capital Outputs Ratio](https://www.investopedia.com/terms/i/icor.asp)- Calculates how much additional capital investment is needed to create growth. Hard to find on the web."
   ]
  },
  {
   "cell_type": "markdown",
   "metadata": {},
   "source": [
    "### Data Preparation"
   ]
  },
  {
   "cell_type": "markdown",
   "metadata": {},
   "source": [
    "First, import the necessary packages."
   ]
  },
  {
   "cell_type": "code",
   "execution_count": 1,
   "metadata": {},
   "outputs": [],
   "source": [
    "import fredapi\n",
    "import requests\n",
    "import json\n",
    "import numpy as np\n",
    "import pandas as pd\n",
    "import scipy\n",
    "from functools import reduce\n",
    "from math import ceil\n",
    "from matplotlib.colors import ListedColormap\n",
    "import matplotlib.pyplot as plt\n",
    "from pandas.plotting import register_matplotlib_converters\n",
    "register_matplotlib_converters()\n",
    "import seaborn as sb\n",
    "from statsmodels.graphics.tsaplots import plot_acf, plot_pacf\n",
    "from statsmodels.tsa.stattools import adfuller, grangercausalitytests\n",
    "from statsmodels.tsa.vector_ar.vecm import coint_johansen\n",
    "from statsmodels.stats.stattools import durbin_watson\n",
    "from statsmodels.tsa.api import VAR\n",
    "from statsmodels.tools.eval_measures import rmse, aic\n",
    "from statsmodels.tsa.stattools import acf\n",
    "from copy import deepcopy\n",
    "from dateutil.relativedelta import relativedelta"
   ]
  },
  {
   "cell_type": "markdown",
   "metadata": {},
   "source": [
    "#### Import FRED Data"
   ]
  },
  {
   "cell_type": "markdown",
   "metadata": {},
   "source": [
    "To import FRED data, we need an API key. API key can be requested [here](https://research.stlouisfed.org/docs/api/fred/).\n",
    "\n",
    "Data returned by fredapi module are in \"Series\" format. We need to convert them to \"DataFrame\" format.\n",
    "We will also rename the columns so the data become easier to manipulate.\n",
    "Note some data are provided on a monthly frequency, while others are quarterly."
   ]
  },
  {
   "cell_type": "code",
   "execution_count": 2,
   "metadata": {},
   "outputs": [],
   "source": [
    "f = fredapi.Fred(api_key='8b91217446b6307d20cb5e4fcfba70eb') # remove API when done\n",
    "\n",
    "def generate_fred_dataframe(name, series_url):\n",
    "    return f.get_series(series_url).to_frame().reset_index().rename(columns={'index':'date', 0:name})\n",
    "\n",
    "# monthly data.\n",
    "tbill_3m = generate_fred_dataframe('tbill_3m', 'TB3MS')\n",
    "tbill_10y = generate_fred_dataframe('tbill_10y', 'GS10')\n",
    "cpiu = generate_fred_dataframe('cpiu', 'CPIAUCSL')\n",
    "payroll = generate_fred_dataframe('payroll', 'PAYEMS')\n",
    "# quarterly data\n",
    "dtoe = generate_fred_dataframe('dtoe', 'NCBCMDPMVCE')\n",
    "pinvest = generate_fred_dataframe('pinvest', 'GPDIC1')\n",
    "gdp = generate_fred_dataframe('gdp', 'GDPC1')"
   ]
  },
  {
   "cell_type": "markdown",
   "metadata": {},
   "source": [
    "#### Import Quandl Data"
   ]
  },
  {
   "cell_type": "markdown",
   "metadata": {},
   "source": [
    "To process Quandl data, we have to:\n",
    "1. reverse the order, so data is listed from oldest to newest;\n",
    "2. rename columns;\n",
    "3. set index column;\n",
    "4. convert index to \"datetime64\" format, for compatibility with other data."
   ]
  },
  {
   "cell_type": "code",
   "execution_count": 3,
   "metadata": {},
   "outputs": [],
   "source": [
    "quandl_api_key = '8ufKe7Y2JMsYPU3CGN7m'\n",
    "\n",
    "def generate_quandl_dataframe(name, series_url):\n",
    "    res = pd.DataFrame.from_dict(requests.get(series_url.format(quandl_api_key)).json()['dataset']['data'])\n",
    "    res = res[::-1].rename(columns={0:'date', 1:name})\n",
    "    res['date'] = res['date'].astype('datetime64')\n",
    "    return res\n",
    "\n",
    "sp500_cape = generate_quandl_dataframe('sp500_cape', 'https://www.quandl.com/api/v3/datasets/MULTPL/SHILLER_PE_RATIO_MONTH.json?api_key={}')"
   ]
  },
  {
   "cell_type": "markdown",
   "metadata": {},
   "source": [
    "#### Converting Quarterly to Monthly Data"
   ]
  },
  {
   "cell_type": "markdown",
   "metadata": {},
   "source": [
    "To convert quarterly to monthly data, we will call the \"resample\" method."
   ]
  },
  {
   "cell_type": "code",
   "execution_count": 4,
   "metadata": {},
   "outputs": [],
   "source": [
    "dtoe = dtoe.set_index('date').resample('MS').asfreq()\n",
    "pinvest = pinvest.set_index('date').resample('MS').asfreq()\n",
    "gdp = gdp.set_index('date').resample('MS').asfreq()"
   ]
  },
  {
   "cell_type": "markdown",
   "metadata": {},
   "source": [
    "#### Interpolate Null Values"
   ]
  },
  {
   "cell_type": "markdown",
   "metadata": {},
   "source": [
    "Newly resampled months have null values, we will use [cublic spline interpolation](https://columbiaeconomics.com/2010/01/20/how-economists-convert-quarterly-data-into-monthly-cubic-spline-interpolation/), a technique commonly used by economists, to fill in the missing values. Cubic spline has better smoothing over quadratic interpolation.\n",
    "\n",
    "Interpolation converts data to Series. We need to convert back to DataFrame type."
   ]
  },
  {
   "cell_type": "code",
   "execution_count": 5,
   "metadata": {},
   "outputs": [
    {
     "data": {
      "text/html": [
       "<div>\n",
       "<style scoped>\n",
       "    .dataframe tbody tr th:only-of-type {\n",
       "        vertical-align: middle;\n",
       "    }\n",
       "\n",
       "    .dataframe tbody tr th {\n",
       "        vertical-align: top;\n",
       "    }\n",
       "\n",
       "    .dataframe thead th {\n",
       "        text-align: right;\n",
       "    }\n",
       "</style>\n",
       "<table border=\"1\" class=\"dataframe\">\n",
       "  <thead>\n",
       "    <tr style=\"text-align: right;\">\n",
       "      <th></th>\n",
       "      <th>pinvest</th>\n",
       "    </tr>\n",
       "    <tr>\n",
       "      <th>date</th>\n",
       "      <th></th>\n",
       "    </tr>\n",
       "  </thead>\n",
       "  <tbody>\n",
       "    <tr>\n",
       "      <th>1947-01-01</th>\n",
       "      <td>218.091000</td>\n",
       "    </tr>\n",
       "    <tr>\n",
       "      <th>1947-02-01</th>\n",
       "      <td>250.643025</td>\n",
       "    </tr>\n",
       "  </tbody>\n",
       "</table>\n",
       "</div>"
      ],
      "text/plain": [
       "               pinvest\n",
       "date                  \n",
       "1947-01-01  218.091000\n",
       "1947-02-01  250.643025"
      ]
     },
     "execution_count": 5,
     "metadata": {},
     "output_type": "execute_result"
    }
   ],
   "source": [
    "gdp['gdp'] = gdp['gdp'].interpolate(method='spline', order=3)\n",
    "dtoe['dtoe'] = dtoe['dtoe'].interpolate(method='spline', order=3)\n",
    "pinvest['pinvest'] = pinvest['pinvest'].interpolate(method='spline', order=3)\n",
    "\n",
    "pinvest.head(2)"
   ]
  },
  {
   "cell_type": "markdown",
   "metadata": {},
   "source": [
    "#### Merge Datasets"
   ]
  },
  {
   "cell_type": "markdown",
   "metadata": {},
   "source": [
    "Note that variables have different start dates, merging the datasets will automatically trim the start dates to April 1953, and the end date to April 2018, which should exclude any null values."
   ]
  },
  {
   "cell_type": "code",
   "execution_count": 6,
   "metadata": {},
   "outputs": [
    {
     "name": "stdout",
     "output_type": "stream",
     "text": [
      "        date  tbill_3m\n",
      "0 1934-01-01      0.72\n",
      "        date   cpiu\n",
      "0 1947-01-01  21.48\n"
     ]
    }
   ],
   "source": [
    "print(tbill_3m.head(1))\n",
    "print(cpiu.head(1))"
   ]
  },
  {
   "cell_type": "code",
   "execution_count": 7,
   "metadata": {},
   "outputs": [
    {
     "data": {
      "text/plain": [
       "tbill_3m      0\n",
       "tbill_10y     0\n",
       "cpiu          0\n",
       "payroll       0\n",
       "dtoe          0\n",
       "pinvest       0\n",
       "sp500_cape    0\n",
       "gdp           0\n",
       "dtype: int64"
      ]
     },
     "execution_count": 7,
     "metadata": {},
     "output_type": "execute_result"
    }
   ],
   "source": [
    "data = [tbill_3m, tbill_10y, cpiu, payroll, dtoe, pinvest, sp500_cape, gdp]\n",
    "data = reduce(lambda left,right: pd.merge(left,right,on='date'), data)\n",
    "data = data.set_index('date')\n",
    "\n",
    "data.isnull().sum()"
   ]
  },
  {
   "cell_type": "markdown",
   "metadata": {},
   "source": [
    "#### Deriving Treasury Spread"
   ]
  },
  {
   "cell_type": "markdown",
   "metadata": {},
   "source": [
    "FRED has a graph, but not a series on [10 year - 3 month spread](https://fred.stlouisfed.org/graph/?g=oGg), this means we could not import it using the method above. We have to difference 10 year treasuries against 3 month secondary rate."
   ]
  },
  {
   "cell_type": "code",
   "execution_count": 8,
   "metadata": {},
   "outputs": [],
   "source": [
    "data['tbill_10y'] = data['tbill_10y'] - data['tbill_3m']\n",
    "data = data.drop('tbill_3m', axis=1).rename(columns={'tbill_10y':'tbill'})"
   ]
  },
  {
   "cell_type": "markdown",
   "metadata": {},
   "source": [
    "### Preliminary Analysis"
   ]
  },
  {
   "cell_type": "markdown",
   "metadata": {},
   "source": [
    "There are 793 months of data in the dataset."
   ]
  },
  {
   "cell_type": "code",
   "execution_count": 9,
   "metadata": {},
   "outputs": [
    {
     "data": {
      "text/html": [
       "<div>\n",
       "<style scoped>\n",
       "    .dataframe tbody tr th:only-of-type {\n",
       "        vertical-align: middle;\n",
       "    }\n",
       "\n",
       "    .dataframe tbody tr th {\n",
       "        vertical-align: top;\n",
       "    }\n",
       "\n",
       "    .dataframe thead th {\n",
       "        text-align: right;\n",
       "    }\n",
       "</style>\n",
       "<table border=\"1\" class=\"dataframe\">\n",
       "  <thead>\n",
       "    <tr style=\"text-align: right;\">\n",
       "      <th></th>\n",
       "      <th>tbill</th>\n",
       "      <th>cpiu</th>\n",
       "      <th>payroll</th>\n",
       "      <th>dtoe</th>\n",
       "      <th>pinvest</th>\n",
       "      <th>sp500_cape</th>\n",
       "      <th>gdp</th>\n",
       "    </tr>\n",
       "  </thead>\n",
       "  <tbody>\n",
       "    <tr>\n",
       "      <th>count</th>\n",
       "      <td>793.000000</td>\n",
       "      <td>793.000000</td>\n",
       "      <td>793.000000</td>\n",
       "      <td>793.000000</td>\n",
       "      <td>793.000000</td>\n",
       "      <td>793.000000</td>\n",
       "      <td>793.000000</td>\n",
       "    </tr>\n",
       "    <tr>\n",
       "      <th>mean</th>\n",
       "      <td>1.477011</td>\n",
       "      <td>116.719218</td>\n",
       "      <td>98634.532156</td>\n",
       "      <td>53.327181</td>\n",
       "      <td>1389.294558</td>\n",
       "      <td>19.850038</td>\n",
       "      <td>9204.318404</td>\n",
       "    </tr>\n",
       "    <tr>\n",
       "      <th>std</th>\n",
       "      <td>1.163736</td>\n",
       "      <td>75.631481</td>\n",
       "      <td>31731.058247</td>\n",
       "      <td>19.541533</td>\n",
       "      <td>925.368623</td>\n",
       "      <td>7.651430</td>\n",
       "      <td>4910.710657</td>\n",
       "    </tr>\n",
       "    <tr>\n",
       "      <th>min</th>\n",
       "      <td>-2.650000</td>\n",
       "      <td>26.690000</td>\n",
       "      <td>48826.000000</td>\n",
       "      <td>27.378639</td>\n",
       "      <td>258.824569</td>\n",
       "      <td>6.640000</td>\n",
       "      <td>2648.982402</td>\n",
       "    </tr>\n",
       "    <tr>\n",
       "      <th>25%</th>\n",
       "      <td>0.620000</td>\n",
       "      <td>37.300000</td>\n",
       "      <td>70792.000000</td>\n",
       "      <td>37.850009</td>\n",
       "      <td>585.092622</td>\n",
       "      <td>14.610000</td>\n",
       "      <td>4938.993964</td>\n",
       "    </tr>\n",
       "    <tr>\n",
       "      <th>50%</th>\n",
       "      <td>1.450000</td>\n",
       "      <td>109.500000</td>\n",
       "      <td>99121.000000</td>\n",
       "      <td>45.765423</td>\n",
       "      <td>1143.396708</td>\n",
       "      <td>19.620000</td>\n",
       "      <td>8185.303000</td>\n",
       "    </tr>\n",
       "    <tr>\n",
       "      <th>75%</th>\n",
       "      <td>2.410000</td>\n",
       "      <td>181.200000</td>\n",
       "      <td>130666.000000</td>\n",
       "      <td>67.745365</td>\n",
       "      <td>2222.691300</td>\n",
       "      <td>24.350000</td>\n",
       "      <td>13559.032000</td>\n",
       "    </tr>\n",
       "    <tr>\n",
       "      <th>max</th>\n",
       "      <td>4.420000</td>\n",
       "      <td>254.958000</td>\n",
       "      <td>151012.000000</td>\n",
       "      <td>102.570130</td>\n",
       "      <td>3481.088000</td>\n",
       "      <td>44.190000</td>\n",
       "      <td>19021.860000</td>\n",
       "    </tr>\n",
       "  </tbody>\n",
       "</table>\n",
       "</div>"
      ],
      "text/plain": [
       "            tbill        cpiu        payroll        dtoe      pinvest  \\\n",
       "count  793.000000  793.000000     793.000000  793.000000   793.000000   \n",
       "mean     1.477011  116.719218   98634.532156   53.327181  1389.294558   \n",
       "std      1.163736   75.631481   31731.058247   19.541533   925.368623   \n",
       "min     -2.650000   26.690000   48826.000000   27.378639   258.824569   \n",
       "25%      0.620000   37.300000   70792.000000   37.850009   585.092622   \n",
       "50%      1.450000  109.500000   99121.000000   45.765423  1143.396708   \n",
       "75%      2.410000  181.200000  130666.000000   67.745365  2222.691300   \n",
       "max      4.420000  254.958000  151012.000000  102.570130  3481.088000   \n",
       "\n",
       "       sp500_cape           gdp  \n",
       "count  793.000000    793.000000  \n",
       "mean    19.850038   9204.318404  \n",
       "std      7.651430   4910.710657  \n",
       "min      6.640000   2648.982402  \n",
       "25%     14.610000   4938.993964  \n",
       "50%     19.620000   8185.303000  \n",
       "75%     24.350000  13559.032000  \n",
       "max     44.190000  19021.860000  "
      ]
     },
     "execution_count": 9,
     "metadata": {},
     "output_type": "execute_result"
    }
   ],
   "source": [
    "data.describe()"
   ]
  },
  {
   "cell_type": "markdown",
   "metadata": {},
   "source": [
    "#### Data Visualization"
   ]
  },
  {
   "cell_type": "code",
   "execution_count": 10,
   "metadata": {},
   "outputs": [],
   "source": [
    "def choose_subplot_dimensions(k):\n",
    "    '''sets nrow and ncol parameter in plots based on number of rows'''\n",
    "    if k <2:\n",
    "        return k, 1\n",
    "    elif k <= 4:\n",
    "        return ceil(k/2), 2\n",
    "    else:\n",
    "        return ceil(k/3), 3\n",
    "\n",
    "def generate_subplots(data_input, row_wise=True):\n",
    "    k = int(len(data_input.columns))\n",
    "    nrow, ncol = choose_subplot_dimensions(k)\n",
    "    fig, axes = plt.subplots(nrow, ncol, dpi=120, figsize=(10, 4), sharey=False)\n",
    "\n",
    "    if not isinstance(axes, np.ndarray):\n",
    "        return fig, [axes]\n",
    "    else:\n",
    "        axes = axes.flatten(order=('C' if row_wise else 'F'))\n",
    "        for idx, ax in enumerate(axes[k:]):\n",
    "            fig.delaxes(ax)\n",
    "            idx_to_turn_on_ticks = idx + k - ncol if row_wise else idx + k - 1\n",
    "\n",
    "            for tk in axes[idx_to_turn_on_ticks].get_xticklabels():\n",
    "                tk.set_visible(True)\n",
    "\n",
    "        axes = axes[:k]\n",
    "        return fig, axes\n",
    "    \n",
    "def generate_plots(data_input, row_wise=True):\n",
    "    fig, axes = generate_subplots(data_input, row_wise=True)\n",
    "    for col, ax in enumerate(axes.flatten()):\n",
    "        ax.plot(data_input[data_input.columns[col]], color='red', linewidth=1)\n",
    "        ax.set_title(data_input.columns[col])\n",
    "        ax.tick_params(which='major', labelsize=8)\n",
    "        ax.tick_params(which='minor', labelsize=6)\n",
    "    \n",
    "    plt.tight_layout()"
   ]
  },
  {
   "cell_type": "code",
   "execution_count": 11,
   "metadata": {},
   "outputs": [
    {
     "data": {
      "image/png": "[encoded data removed]",
      "text/plain": [
       "<Figure size 1200x480 with 7 Axes>"
      ]
     },
     "metadata": {
      "needs_background": "light"
     },
     "output_type": "display_data"
    }
   ],
   "source": [
    "generate_plots(data, row_wise=True)"
   ]
  },
  {
   "cell_type": "markdown",
   "metadata": {},
   "source": [
    "#### Check for Correlation"
   ]
  },
  {
   "cell_type": "code",
   "execution_count": 12,
   "metadata": {
    "scrolled": true
   },
   "outputs": [],
   "source": [
    "def generate_corr_heatmap(data_input):\n",
    "    plt.figure(figsize = (10,5))\n",
    "    ax = sb.heatmap(data_input.corr(), \n",
    "                    xticklabels=data_input.columns.values, \n",
    "                    yticklabels=data_input.columns.values, \n",
    "                    annot=True, annot_kws={'size':12})\n",
    "    bottom, top = ax.get_ylim()\n",
    "    ax.set_ylim(bottom + 0.5, top - 0.5)\n",
    "    plt.show()"
   ]
  },
  {
   "cell_type": "code",
   "execution_count": 13,
   "metadata": {},
   "outputs": [
    {
     "data": {
      "image/png": "[encoded data removed]",
      "text/plain": [
       "<Figure size 720x360 with 2 Axes>"
      ]
     },
     "metadata": {
      "needs_background": "light"
     },
     "output_type": "display_data"
    }
   ],
   "source": [
    "generate_corr_heatmap(data)"
   ]
  },
  {
   "cell_type": "markdown",
   "metadata": {},
   "source": [
    "*CPIU, PAYROLL, PINEST, SP500, & GDP* are highly correlated. High correlation in input variables may cause multicollinearity. Multicollinearity reduces the statistical significance of the variables, making it difficult to pinpoint which variable is responsible for changes in GDP.\n",
    "\n",
    "Before we decide if any variables should be removed, let's continue the exploration to gain a better picture."
   ]
  },
  {
   "cell_type": "markdown",
   "metadata": {},
   "source": [
    "#### Model Selection"
   ]
  },
  {
   "cell_type": "markdown",
   "metadata": {},
   "source": [
    "For dealing with multiple variables, a vector autoregression (VAR) model can handle this problem.\n",
    "\n",
    "VAR is a stochastic (random) process that captures linear relationship between all variables. VAR assumes all variables are dependent on each other, and that change in 1 variable will induce change in another. This trait is called Granger causality. We will verify if Granger causality exists later."
   ]
  },
  {
   "cell_type": "markdown",
   "metadata": {},
   "source": [
    "#### Test for Autocorrelation"
   ]
  },
  {
   "cell_type": "markdown",
   "metadata": {},
   "source": [
    "Autocorrelation compares the lag value with all values before it, it explain how well the past and present values are related, or how well past values predict present value. Partial autocorrelation compares the lag value of the residuals, discounting the correlated portion.\n",
    "\n",
    "GDP is highly autocorrelated. This feature can allow a generalization of GDP trend (2% year-over-year growth). We will keep this characteristic in mind as we continue the exploration."
   ]
  },
  {
   "cell_type": "code",
   "execution_count": 14,
   "metadata": {},
   "outputs": [
    {
     "data": {
      "image/png": "[encoded data removed]",
      "text/plain": [
       "<Figure size 720x432 with 2 Axes>"
      ]
     },
     "metadata": {
      "needs_background": "light"
     },
     "output_type": "display_data"
    }
   ],
   "source": [
    "fig, ax = plt.subplots(2, figsize=(10, 6))\n",
    "ax[0] = plot_acf(data.gdp, ax=ax[0])\n",
    "ax[1] = plot_pacf(data.gdp, ax=ax[1])"
   ]
  },
  {
   "cell_type": "markdown",
   "metadata": {},
   "source": [
    "#### Test for Stationarity"
   ]
  },
  {
   "cell_type": "markdown",
   "metadata": {},
   "source": [
    "It is also important for all data to be stationary, meaning the mean and variance do not change overtime. The primary feature to eliminate is trend, for example: GDP increases steadily over the years, the mean increases as time increases, and so does the variance. Looking at the current state of *cpiu, pinvest, payroll*, and *gdp*, as time approaches infinity, so does the mean and variance. Many models do not deal with changing mean and variance very well.\n",
    "\n",
    "In this case, if the p-value is less than 0.05, or ADF Test Statistic <= Critical Value 5%, then the series is classified as stationary."
   ]
  },
  {
   "cell_type": "code",
   "execution_count": 15,
   "metadata": {},
   "outputs": [],
   "source": [
    "class StationarityTests:\n",
    "    def __init__(self, alpha=.05):\n",
    "        self.SignificanceLevel = alpha\n",
    "        \n",
    "    def ADF_Stationarity_Test(self, timeseries):\n",
    "        adfTest = adfuller(timeseries, autolag='AIC')\n",
    "        self.pValue = adfTest[1]\n",
    "        \n",
    "        if (self.pValue < self.SignificanceLevel):\n",
    "            self.isStationary = True\n",
    "        else:\n",
    "            self.isStationary = False\n",
    "        \n",
    "        dfResults = pd.Series(adfTest[0:4], index=['ADF Test Statistic','P-Value','# Lags','# Observations'])\n",
    "        dfResults['Critical Value 5%'] = adfTest[4]['5%']\n",
    "\n",
    "        return dfResults\n",
    "        \n",
    "\n",
    "sTest = StationarityTests()"
   ]
  },
  {
   "cell_type": "code",
   "execution_count": 16,
   "metadata": {},
   "outputs": [
    {
     "name": "stdout",
     "output_type": "stream",
     "text": [
      "ADF Test Statistic     -5.092447\n",
      "P-Value                 0.000015\n",
      "# Lags                 16.000000\n",
      "# Observations        776.000000\n",
      "Critical Value 5%      -2.865272\n",
      "dtype: float64\n",
      "Is tbill series stationary? True\n",
      "\n",
      "\n",
      "ADF Test Statistic      1.765773\n",
      "P-Value                 0.998279\n",
      "# Lags                 15.000000\n",
      "# Observations        777.000000\n",
      "Critical Value 5%      -2.865267\n",
      "dtype: float64\n",
      "Is cpiu series stationary? False\n",
      "\n",
      "\n",
      "ADF Test Statistic     -0.174749\n",
      "P-Value                 0.941465\n",
      "# Lags                  4.000000\n",
      "# Observations        788.000000\n",
      "Critical Value 5%      -2.865215\n",
      "dtype: float64\n",
      "Is payroll series stationary? False\n",
      "\n",
      "\n",
      "ADF Test Statistic     -1.102667\n",
      "P-Value                 0.714007\n",
      "# Lags                 21.000000\n",
      "# Observations        771.000000\n",
      "Critical Value 5%      -2.865296\n",
      "dtype: float64\n",
      "Is dtoe series stationary? False\n",
      "\n",
      "\n",
      "ADF Test Statistic      0.376772\n",
      "P-Value                 0.980605\n",
      "# Lags                 17.000000\n",
      "# Observations        775.000000\n",
      "Critical Value 5%      -2.865277\n",
      "dtype: float64\n",
      "Is pinvest series stationary? False\n",
      "\n",
      "\n",
      "ADF Test Statistic     -1.850093\n",
      "P-Value                 0.355890\n",
      "# Lags                  8.000000\n",
      "# Observations        784.000000\n",
      "Critical Value 5%      -2.865234\n",
      "dtype: float64\n",
      "Is sp500_cape series stationary? False\n",
      "\n",
      "\n",
      "ADF Test Statistic      2.630113\n",
      "P-Value                 0.999080\n",
      "# Lags                 19.000000\n",
      "# Observations        773.000000\n",
      "Critical Value 5%      -2.865286\n",
      "dtype: float64\n",
      "Is gdp series stationary? False\n",
      "\n",
      "\n"
     ]
    }
   ],
   "source": [
    "for var in data:\n",
    "    print(sTest.ADF_Stationarity_Test(data[var]))\n",
    "    print('Is {} series stationary? {}'.format(var, sTest.isStationary))\n",
    "    print('\\n')"
   ]
  },
  {
   "cell_type": "markdown",
   "metadata": {},
   "source": [
    "#### Data Transformation"
   ]
  },
  {
   "cell_type": "markdown",
   "metadata": {},
   "source": [
    "To make our data stationary, we will take first difference of the cube root of data. Cube rooting has the benefit of reducing right skeweness, in an exponentially trending dataset, this makes the distribution more normal. **Normality is a desirable characteristic of stationarity.** However, cube rooting does not make the dataset stationary, as the trend characteristic remains, which is why differencing is needed.\n",
    "\n",
    "Another approriate transformation method is a simple first difference. First difference method is one of the most common methods, and will work for majority of cases."
   ]
  },
  {
   "cell_type": "markdown",
   "metadata": {},
   "source": [
    "$${y} = {x_{t}}^{1/3} - {x_{t-1}}^{1/3}$$"
   ]
  },
  {
   "cell_type": "code",
   "execution_count": 17,
   "metadata": {},
   "outputs": [],
   "source": [
    "# data_trans = data.diff(1).dropna()\n",
    "data_cube_root = data ** (1/3) \n",
    "data_trans = data_cube_root.diff(1).dropna()"
   ]
  },
  {
   "cell_type": "markdown",
   "metadata": {},
   "source": [
    "#### Normality Test (D'Agostino's K^2 Test)"
   ]
  },
  {
   "cell_type": "code",
   "execution_count": 18,
   "metadata": {},
   "outputs": [],
   "source": [
    "def generate_histogram(data_input, bins, plot_name, color='blue'):\n",
    "    plt.figure(figsize=(20,3))\n",
    "    plt.hist(data_input, bins, color=color)\n",
    "    plt.xlabel(\"Values\")\n",
    "    plt.ylabel(\"Frequency\")\n",
    "    plt.title(str(plot_name))\n",
    "    plt.show()"
   ]
  },
  {
   "cell_type": "code",
   "execution_count": 19,
   "metadata": {},
   "outputs": [
    {
     "name": "stdout",
     "output_type": "stream",
     "text": [
      "First Difference Transformation mean: 20.584786616161615\n",
      "First Difference Transformation std.dev: 24.252443181873023\n",
      "Cube Root Difference Transformation mean: 0.01746512094870466\n",
      "Cube Root Difference Transformation std.dev: 0.017943607483992926\n"
     ]
    },
    {
     "data": {
      "image/png": "[encoded data removed]",
      "text/plain": [
       "<Figure size 1440x216 with 1 Axes>"
      ]
     },
     "metadata": {
      "needs_background": "light"
     },
     "output_type": "display_data"
    },
    {
     "data": {
      "image/png": "[encoded data removed]",
      "text/plain": [
       "<Figure size 1440x216 with 1 Axes>"
      ]
     },
     "metadata": {
      "needs_background": "light"
     },
     "output_type": "display_data"
    }
   ],
   "source": [
    "hist_1 = data['gdp'].diff().dropna()\n",
    "hist_2 = data_trans['gdp']\n",
    "\n",
    "print('First Difference Transformation mean:', sum(hist_1) / len(hist_1))\n",
    "print('First Difference Transformation std.dev:', np.std(hist_1))\n",
    "print('Cube Root Difference Transformation mean:', sum(hist_2) / len(hist_2))\n",
    "print('Cube Root Difference Transformation std.dev:', np.std(hist_2))\n",
    "\n",
    "generate_histogram(hist_1, bins=50, plot_name='First Difference Transformation')\n",
    "generate_histogram(hist_2, bins=50, plot_name='Cube Root Difference Transformation')"
   ]
  },
  {
   "cell_type": "markdown",
   "metadata": {},
   "source": [
    "To the naked eye, it may be difficult to discern which transformation is more normal, which is why statistical methods should be employed. D'Agostino's K^2 Test (DK2) is preferred over Shapiro-Wilks Test because _____.\n",
    "\n",
    "DK2 computes the skewness and kurtosis. Skewness is the proportion of values in one tail vs. the other. Kurtosis is the proportion of data above 2 sigma  It then calculates how far each of these values differs from the value expected with a Gaussian distribution, and computes a single p-value from the sum of these discrepancies.\n",
    "\n",
    "We can see that both skewness and kurtosis is less in the case of cube root than a simple difference. "
   ]
  },
  {
   "cell_type": "code",
   "execution_count": 20,
   "metadata": {},
   "outputs": [],
   "source": [
    "def dagostino_k2_test(data_input):\n",
    "    s, p_skew = scipy.stats.skewtest(data_input)\n",
    "    k, p_kurtosis = scipy.stats.kurtosistest(data_input)\n",
    "    stat, p = scipy.stats.normaltest(data_input)\n",
    "    print('skewness:', s)\n",
    "    print('kurtosis:', k)\n",
    "    print('s^2 + k^2 =', stat, 'p-value =', p)"
   ]
  },
  {
   "cell_type": "code",
   "execution_count": 21,
   "metadata": {},
   "outputs": [
    {
     "name": "stdout",
     "output_type": "stream",
     "text": [
      "First Difference Transformation:\n",
      "skewness: -7.924189440505778\n",
      "kurtosis: 8.648546598816681\n",
      "s^2 + k^2 = 137.59013656092685 p-value = 1.3264212278211507e-30\n",
      "\n",
      "\n",
      "Cube Root Difference Transformation:\n",
      "skewness: -7.237131332832878\n",
      "kurtosis: 6.389433648295601\n",
      "s^2 + k^2 = 93.20093227464342 p-value = 5.776632009623415e-21\n"
     ]
    }
   ],
   "source": [
    "print('First Difference Transformation:')\n",
    "dagostino_k2_test(hist_1)\n",
    "print('\\n')\n",
    "\n",
    "print('Cube Root Difference Transformation:')\n",
    "dagostino_k2_test(hist_2)"
   ]
  },
  {
   "cell_type": "markdown",
   "metadata": {},
   "source": [
    "#### Splitting Data Into Trainng and Testing Sets"
   ]
  },
  {
   "cell_type": "markdown",
   "metadata": {},
   "source": [
    "For training and validation, we will set the test period to 12 months prior to the latest entry."
   ]
  },
  {
   "cell_type": "code",
   "execution_count": 22,
   "metadata": {},
   "outputs": [
    {
     "data": {
      "text/html": [
       "<div>\n",
       "<style scoped>\n",
       "    .dataframe tbody tr th:only-of-type {\n",
       "        vertical-align: middle;\n",
       "    }\n",
       "\n",
       "    .dataframe tbody tr th {\n",
       "        vertical-align: top;\n",
       "    }\n",
       "\n",
       "    .dataframe thead th {\n",
       "        text-align: right;\n",
       "    }\n",
       "</style>\n",
       "<table border=\"1\" class=\"dataframe\">\n",
       "  <thead>\n",
       "    <tr style=\"text-align: right;\">\n",
       "      <th></th>\n",
       "      <th>tbill</th>\n",
       "      <th>cpiu</th>\n",
       "      <th>payroll</th>\n",
       "      <th>dtoe</th>\n",
       "      <th>pinvest</th>\n",
       "      <th>sp500_cape</th>\n",
       "      <th>gdp</th>\n",
       "    </tr>\n",
       "    <tr>\n",
       "      <th>date</th>\n",
       "      <th></th>\n",
       "      <th></th>\n",
       "      <th></th>\n",
       "      <th></th>\n",
       "      <th></th>\n",
       "      <th></th>\n",
       "      <th></th>\n",
       "    </tr>\n",
       "  </thead>\n",
       "  <tbody>\n",
       "    <tr>\n",
       "      <th>2017-12-01</th>\n",
       "      <td>-0.012513</td>\n",
       "      <td>0.004810</td>\n",
       "      <td>0.020775</td>\n",
       "      <td>-0.001697</td>\n",
       "      <td>0.029596</td>\n",
       "      <td>0.026294</td>\n",
       "      <td>0.016929</td>\n",
       "    </tr>\n",
       "    <tr>\n",
       "      <th>2018-01-01</th>\n",
       "      <td>0.027743</td>\n",
       "      <td>0.008292</td>\n",
       "      <td>0.020401</td>\n",
       "      <td>-0.006848</td>\n",
       "      <td>0.013713</td>\n",
       "      <td>0.039771</td>\n",
       "      <td>0.019348</td>\n",
       "    </tr>\n",
       "    <tr>\n",
       "      <th>2018-02-01</th>\n",
       "      <td>0.034859</td>\n",
       "      <td>0.004083</td>\n",
       "      <td>0.039326</td>\n",
       "      <td>-0.004673</td>\n",
       "      <td>-0.012089</td>\n",
       "      <td>-0.041422</td>\n",
       "      <td>0.023938</td>\n",
       "    </tr>\n",
       "    <tr>\n",
       "      <th>2018-03-01</th>\n",
       "      <td>-0.043943</td>\n",
       "      <td>0.001085</td>\n",
       "      <td>0.021664</td>\n",
       "      <td>-0.009954</td>\n",
       "      <td>-0.015367</td>\n",
       "      <td>-0.007618</td>\n",
       "      <td>0.024367</td>\n",
       "    </tr>\n",
       "    <tr>\n",
       "      <th>2018-04-01</th>\n",
       "      <td>-0.009245</td>\n",
       "      <td>0.003850</td>\n",
       "      <td>0.023311</td>\n",
       "      <td>0.013240</td>\n",
       "      <td>0.004534</td>\n",
       "      <td>-0.028139</td>\n",
       "      <td>0.027834</td>\n",
       "    </tr>\n",
       "  </tbody>\n",
       "</table>\n",
       "</div>"
      ],
      "text/plain": [
       "               tbill      cpiu   payroll      dtoe   pinvest  sp500_cape  \\\n",
       "date                                                                       \n",
       "2017-12-01 -0.012513  0.004810  0.020775 -0.001697  0.029596    0.026294   \n",
       "2018-01-01  0.027743  0.008292  0.020401 -0.006848  0.013713    0.039771   \n",
       "2018-02-01  0.034859  0.004083  0.039326 -0.004673 -0.012089   -0.041422   \n",
       "2018-03-01 -0.043943  0.001085  0.021664 -0.009954 -0.015367   -0.007618   \n",
       "2018-04-01 -0.009245  0.003850  0.023311  0.013240  0.004534   -0.028139   \n",
       "\n",
       "                 gdp  \n",
       "date                  \n",
       "2017-12-01  0.016929  \n",
       "2018-01-01  0.019348  \n",
       "2018-02-01  0.023938  \n",
       "2018-03-01  0.024367  \n",
       "2018-04-01  0.027834  "
      ]
     },
     "execution_count": 22,
     "metadata": {},
     "output_type": "execute_result"
    }
   ],
   "source": [
    "test_periods = 12\n",
    "train, test = data[0:-test_periods], data[-test_periods:]\n",
    "train_trans = data_trans[0:-test_periods]\n",
    "train_trans.tail()"
   ]
  },
  {
   "cell_type": "markdown",
   "metadata": {},
   "source": [
    "#### Data After Transformation"
   ]
  },
  {
   "cell_type": "markdown",
   "metadata": {},
   "source": [
    "Checking for autocorrelation, much autocorrelation have been eliminated. **This means the prediction of *gdp* will be influenced more by other variables, and less by its past.**"
   ]
  },
  {
   "cell_type": "code",
   "execution_count": 23,
   "metadata": {},
   "outputs": [
    {
     "data": {
      "image/png": "[encoded data removed]",
      "text/plain": [
       "<Figure size 720x432 with 2 Axes>"
      ]
     },
     "metadata": {
      "needs_background": "light"
     },
     "output_type": "display_data"
    }
   ],
   "source": [
    "fig, ax = plt.subplots(2, figsize=(10, 6))\n",
    "ax[0] = plot_acf(train_trans.gdp, ax=ax[0])\n",
    "ax[1] = plot_pacf(train_trans.gdp, ax=ax[1])"
   ]
  },
  {
   "cell_type": "markdown",
   "metadata": {},
   "source": [
    "The dataset is now stationary."
   ]
  },
  {
   "cell_type": "code",
   "execution_count": 24,
   "metadata": {
    "scrolled": false
   },
   "outputs": [
    {
     "name": "stdout",
     "output_type": "stream",
     "text": [
      "Is tbill series stationary? True\n",
      "Is cpiu series stationary? True\n",
      "Is payroll series stationary? True\n",
      "Is dtoe series stationary? True\n",
      "Is pinvest series stationary? True\n",
      "Is sp500_cape series stationary? True\n",
      "Is gdp series stationary? True\n"
     ]
    }
   ],
   "source": [
    "for var in train:\n",
    "    sTest.ADF_Stationarity_Test(train_trans[var])\n",
    "    print(\"Is {} series stationary? {}\".format(var, sTest.isStationary))"
   ]
  },
  {
   "cell_type": "code",
   "execution_count": 25,
   "metadata": {},
   "outputs": [
    {
     "data": {
      "image/png": "[encoded data removed]",
      "text/plain": [
       "<Figure size 1200x480 with 7 Axes>"
      ]
     },
     "metadata": {
      "needs_background": "light"
     },
     "output_type": "display_data"
    }
   ],
   "source": [
    "generate_plots(train_trans, row_wise=True)"
   ]
  },
  {
   "cell_type": "markdown",
   "metadata": {},
   "source": [
    "Much of the correlation between series has been nullified after transformation, reducing multicollinearity risks."
   ]
  },
  {
   "cell_type": "code",
   "execution_count": 26,
   "metadata": {},
   "outputs": [
    {
     "data": {
      "image/png": "[encoded data removed]",
      "text/plain": [
       "<Figure size 720x360 with 2 Axes>"
      ]
     },
     "metadata": {
      "needs_background": "light"
     },
     "output_type": "display_data"
    }
   ],
   "source": [
    "generate_corr_heatmap(train_trans)"
   ]
  },
  {
   "cell_type": "markdown",
   "metadata": {},
   "source": [
    "#### Lag Order Selection"
   ]
  },
  {
   "cell_type": "markdown",
   "metadata": {},
   "source": [
    "VAR uses [4 metrics](https://stats.stackexchange.com/questions/577/is-there-any-reason-to-prefer-the-aic-or-bic-over-the-other) for [lag order selection](https://sccn.ucsd.edu/wiki/Chapter_3.5._Model_order_selection), we want the lag orders with the lowest error value: \n",
    "\n",
    "* Aikaike Information Criterion (AIC)- AIC is more liberal for large , complex models, and is best used for forecasting. AIC has the tendency to chooose large lag order. When lag order is too large, and may cause overfitting.\n",
    "* Baysian Information Criteron (BIC)- BIC assumes reality is a candidate in the model, meaning a definitive amount of variables have definitive predictive, when a definitive lag order is used. BIC has the tendency to choose small lag order, and may cause underfitting.\n",
    "* Final Prediction Error (FPE)- FPE is similar to AIC, but may outperform (lower mean squared error) than AIC in small sample sizes.\n",
    "* Hannan-Quinn Information Criterion (HQIC)- Similar to BIC, but penalizes large variable selection less. \n",
    "\n",
    "Since we decided the economy is stochastic, and not deterministic, and since the sample size used to determine lag order is small relative to other datasets, we will use FPE."
   ]
  },
  {
   "cell_type": "code",
   "execution_count": 27,
   "metadata": {
    "scrolled": true
   },
   "outputs": [
    {
     "name": "stderr",
     "output_type": "stream",
     "text": [
      "/home/jyuan/miniconda3/lib/python3.7/site-packages/statsmodels/tsa/base/tsa_model.py:219: ValueWarning: A date index has been provided, but it has no associated frequency information and so will be ignored when e.g. forecasting.\n",
      "  ' ignored when e.g. forecasting.', ValueWarning)\n"
     ]
    },
    {
     "name": "stdout",
     "output_type": "stream",
     "text": [
      "AIC: 9\n"
     ]
    },
    {
     "name": "stderr",
     "output_type": "stream",
     "text": [
      "/home/jyuan/miniconda3/lib/python3.7/site-packages/statsmodels/tsa/base/tsa_model.py:219: ValueWarning: A date index has been provided, but it has no associated frequency information and so will be ignored when e.g. forecasting.\n",
      "  ' ignored when e.g. forecasting.', ValueWarning)\n"
     ]
    },
    {
     "name": "stdout",
     "output_type": "stream",
     "text": [
      "BIC: 4\n"
     ]
    },
    {
     "name": "stderr",
     "output_type": "stream",
     "text": [
      "/home/jyuan/miniconda3/lib/python3.7/site-packages/statsmodels/tsa/base/tsa_model.py:219: ValueWarning: A date index has been provided, but it has no associated frequency information and so will be ignored when e.g. forecasting.\n",
      "  ' ignored when e.g. forecasting.', ValueWarning)\n"
     ]
    },
    {
     "name": "stdout",
     "output_type": "stream",
     "text": [
      "FPE: 9\n"
     ]
    },
    {
     "name": "stderr",
     "output_type": "stream",
     "text": [
      "/home/jyuan/miniconda3/lib/python3.7/site-packages/statsmodels/tsa/base/tsa_model.py:219: ValueWarning: A date index has been provided, but it has no associated frequency information and so will be ignored when e.g. forecasting.\n",
      "  ' ignored when e.g. forecasting.', ValueWarning)\n"
     ]
    },
    {
     "name": "stdout",
     "output_type": "stream",
     "text": [
      "HQIC: 4\n"
     ]
    }
   ],
   "source": [
    "print('AIC:', VAR(train_trans).fit(maxlags=24, ic='aic').k_ar)\n",
    "print('BIC:', VAR(train_trans).fit(maxlags=24, ic='bic').k_ar)\n",
    "print('FPE:', VAR(train_trans).fit(maxlags=24, ic='fpe').k_ar)\n",
    "print('HQIC:', VAR(train_trans).fit(maxlags=24, ic='hqic').k_ar)"
   ]
  },
  {
   "cell_type": "markdown",
   "metadata": {},
   "source": [
    "#### Granger Causality Test"
   ]
  },
  {
   "cell_type": "markdown",
   "metadata": {},
   "source": [
    "Granger causality test assumes there is no relationship between the lag value of x(row) and present value of y(column), if resultant p-value is greater than 0.05. If there is no causal relationship, then it means a variable has no impact on another, and it does not matter whether it is included or not."
   ]
  },
  {
   "cell_type": "code",
   "execution_count": 28,
   "metadata": {},
   "outputs": [],
   "source": [
    "lag_order = 9\n",
    "\n",
    "def grangerstest(data_input, variables, test='ssr_chi2test'):\n",
    "    res = pd.DataFrame(np.zeros((len(variables), len(variables))), columns=variables, index=variables)\n",
    "\n",
    "    for c in data_input.columns:\n",
    "        for r in res.index:\n",
    "            granger_res = grangercausalitytests(data_input[[r, c]], maxlag=lag_order, verbose=False)\n",
    "            p_values = [round(granger_res[i+1][0][test][1],4) for i in range(lag_order)]\n",
    "\n",
    "            res.loc[r, c] = min(p_values)\n",
    "    res.columns = [var + '_x' for var in variables]\n",
    "    res.index = [var + '_y' for var in variables]\n",
    "    return res\n",
    "\n",
    "def generate_pval_map(data_input, max_lag):\n",
    "    gct = grangerstest(data_input, variables=data_input.columns)\n",
    "    cmap1 = ListedColormap(['r'])\n",
    "\n",
    "    plt.figure(figsize = (10,5))\n",
    "    ax = sb.heatmap(gct, \n",
    "            xticklabels=gct.columns.values, \n",
    "            yticklabels=gct.index.values, \n",
    "                mask=gct < 0.05, cmap=cmap1, cbar=False, \n",
    "                annot=True, annot_kws={'size':12})\n",
    "    bottom, top = ax.get_ylim()\n",
    "    ax.set_ylim(bottom + 0.5, top - 0.5)\n",
    "\n",
    "    plt.show()"
   ]
  },
  {
   "cell_type": "markdown",
   "metadata": {},
   "source": [
    "The heatmap below conveys which variable x causes variable y. Pairs with p-values larger than 0.05 are deemed to have no causal relationship. This relationship can be one way, as seen in *tbill* and *sp500_cape* or two ways, exemplified by *tbill* and *cpiu*.\n",
    "\n",
    "We want to reduce the amount of variables with no causal relations."
   ]
  },
  {
   "cell_type": "code",
   "execution_count": 29,
   "metadata": {
    "scrolled": true
   },
   "outputs": [
    {
     "data": {
      "image/png": "[encoded data removed]",
      "text/plain": [
       "<Figure size 720x360 with 1 Axes>"
      ]
     },
     "metadata": {
      "needs_background": "light"
     },
     "output_type": "display_data"
    }
   ],
   "source": [
    "generate_pval_map(train_trans,  max_lag=lag_order)"
   ]
  },
  {
   "cell_type": "markdown",
   "metadata": {},
   "source": [
    "#### Cointegration Test"
   ]
  },
  {
   "cell_type": "markdown",
   "metadata": {},
   "source": [
    "Cointegration is simply that by lagging one variable against another (order of integration or lag order), the distance between variables is stationary through time. If two variables are cointegrated, granger causality must exist (even if a weak one, or one way causality).\n",
    "\n",
    "Johansen test combines multiple series together, than tests whether this combined series has less order of integration than a single variable on its own. If so, then the variables are cointegrated.\n",
    "\n",
    "Here we pass in 3 variables:\n",
    "1. data to be tested,\n",
    "2. 1 for stochastic nature of the data, and\n",
    "3. number of lagged periods.\n",
    "\n",
    "While there are many literature on whether the economy is [deterministic or stochastic](https://fraser.stlouisfed.org/files/docs/historical/frbsf/frbsf_let/frbsf_let_19930212.pdf), with proponents of a deterministic model arguing GDP hinders on the long term supply factors, such as capital, labor, and technology, and that growth rate should stay the same overtime; while proponents of a stochastic model would point to \"permanent\" changes to the growth rate, positive or negative, such as sudden sharp slope increase in supply factors since the industrial revolution. Under a deterministic model, proponents of stochastic model would say, people would still be living in the 17th century.\n",
    "\n",
    "Testing with lag order of 9, cointegration test failed. This is due to a large number of non-causal variables. There are two ways to deal with this:\n",
    "1. reduce the lag order, or\n",
    "2. reduce the number of variables.\n",
    "\n",
    "**Reducing the lag order reduces the amount of data samples fed into the model, which risks \"judging a book by its cover\", and making a false representation of what a variable is actually trying to tell us. Reducing the amount of variables, especially those with no or weak granger causality, is the better method.**"
   ]
  },
  {
   "cell_type": "code",
   "execution_count": 30,
   "metadata": {},
   "outputs": [
    {
     "name": "stdout",
     "output_type": "stream",
     "text": [
      "Name   ::  Test Stat  >  C(95%)    => Signif  \n",
      " ----------------------------------------\n",
      "tbill  ::  424.86    >  111.7797  =>  True\n",
      "cpiu   ::  303.53    >  83.9383   =>  True\n",
      "payroll ::  219.67    >  60.0627   =>  True\n",
      "dtoe   ::  145.65    >  40.1749   =>  True\n",
      "pinvest ::  88.72     >  24.2761   =>  True\n",
      "sp500_cape ::  42.36     >  12.3212   =>  True\n",
      "gdp    ::  2.35      >  4.1296    =>  False\n"
     ]
    }
   ],
   "source": [
    "def cointegration_test(data, det_order, lag_order, significance=0.05):\n",
    "    out = coint_johansen(data, det_order, lag_order)\n",
    "    d = {'0.90':0, '0.95':1, '0.99':2}\n",
    "    traces = out.lr1\n",
    "    cvts = out.cvt[:, d[str(1-significance)]]\n",
    "\n",
    "    def adjust(val, length=6): return str(val).ljust(length)\n",
    "    print('Name   ::  Test Stat  >  C(95%)    => Signif  \\n', '--'*20)\n",
    "    for col, trace, cvt in zip(data.columns, traces, cvts):\n",
    "        print(adjust(col), ':: ', adjust(round(trace, 2), 9), '> ', adjust(cvt, 8), ' => ', trace > cvt)\n",
    "\n",
    "cointegration_test(train_trans, det_order=-1, lag_order=lag_order)"
   ]
  },
  {
   "cell_type": "markdown",
   "metadata": {},
   "source": [
    "Below is a modified function to find the highest lag order that satisfies the cointegration test, if none are found, it will return the lag order that minimizes FPE."
   ]
  },
  {
   "cell_type": "code",
   "execution_count": 31,
   "metadata": {},
   "outputs": [],
   "source": [
    "def cointegration_test_lag_order_detection(data_input, det_order, lag_order, significance=0.05):\n",
    "    out = coint_johansen(data, det_order, lag_order)\n",
    "    d = {'0.90':0, '0.95':1, '0.99':2}\n",
    "    traces = out.lr1\n",
    "    cvts = out.cvt[:, d[str(1-significance)]]\n",
    "    return traces > cvts\n",
    "\n",
    "def set_coint_lag_order(data_input, det_order, max_lag, significance=0.05):\n",
    "    for i in reversed(range(0, max_lag)):\n",
    "        if all(cointegration_test_lag_order_detection(data_input, det_order=-1, lag_order=i)) == True:\n",
    "            return i\n",
    "        else:\n",
    "            '''if all return false, use FPE values from model selection'''\n",
    "            model = VAR(data_input)\n",
    "            model_fitted = model.fit(maxlags=24, ic='fpe')\n",
    "            return model_fitted.k_ar"
   ]
  },
  {
   "cell_type": "markdown",
   "metadata": {},
   "source": [
    "#### Dimensionality Reduction"
   ]
  },
  {
   "cell_type": "markdown",
   "metadata": {},
   "source": [
    "**When removing variables, we want to:\n",
    "1. ensure some unique features are retained,\n",
    "2. ensure granger causality exists (at least one way), and\n",
    "3. maximize final Test Stat.\n",
    "\n",
    "Considering the above conditions, *cpiu*, and *pinvest* are removed, while *tbill* and *sp500_cape* were considered for removal, but ultimately retained. While the case cannot be made regarding uniqueness, as the variables were already selected to \"represent various aspects or mechanisms of the economy\", the inclusion of both *tbill* and *sp500_cape* actually increases the final Test Stat against other combinations, meaning the model is more cointegrated overall with these variables than without.\n",
    "\n",
    "We want first reduce the varaibles causing the most non-cointegratedness."
   ]
  },
  {
   "cell_type": "code",
   "execution_count": 32,
   "metadata": {},
   "outputs": [
    {
     "name": "stdout",
     "output_type": "stream",
     "text": [
      "Sum of p-value greater than 0.05 on both axis:\n",
      "   cpiu_x  tbill_x  dtoe_x  payroll_x  sp500_cape_x  pinvest_x   gdp_x  \\\n",
      "0  2.4069   1.8135  1.6781     1.4451        1.2074     1.1584  1.0225   \n",
      "1     NaN      NaN     NaN        NaN           NaN        NaN     NaN   \n",
      "\n",
      "   cpiu_y  payroll_y  sp500_cape_y  pinvest_y  dtoe_y  tbill_y   gdp_y  \n",
      "0     NaN        NaN           NaN        NaN     NaN      NaN     NaN  \n",
      "1  2.1948     1.8192        1.4428     1.4291  1.4192   1.4114  1.0154  \n"
     ]
    }
   ],
   "source": [
    "gct = grangerstest(train_trans, train_trans.columns)\n",
    "print('Sum of p-value greater than 0.05 on both axis:')\n",
    "print(pd.DataFrame([gct.sum().sort_values(ascending=False), gct.sum(axis=1).sort_values(ascending=False)]))"
   ]
  },
  {
   "cell_type": "code",
   "execution_count": 35,
   "metadata": {},
   "outputs": [
    {
     "name": "stdout",
     "output_type": "stream",
     "text": [
      "Sum of p-value greater than 0.05 on both axis:\n",
      "   tbill_x  payroll_x  sp500_cape_x  pinvest_x  dtoe_x   gdp_x  sp500_cape_y  \\\n",
      "0   1.3943     1.3448         1.207     1.0974  1.0791  1.0076           NaN   \n",
      "1      NaN        NaN           NaN        NaN     NaN     NaN        1.4404   \n",
      "\n",
      "   tbill_y  dtoe_y  payroll_y   gdp_y  pinvest_y  \n",
      "0      NaN     NaN        NaN     NaN        NaN  \n",
      "1   1.2867  1.2561      1.144  1.0029     1.0001  \n"
     ]
    }
   ],
   "source": [
    "train_trans = train_trans.drop(['cpiu'], axis=1)\n",
    "gct = grangerstest(train_trans, train_trans.columns)\n",
    "print('Sum of p-value greater than 0.05 on both axis:')\n",
    "print(pd.DataFrame([gct.sum().sort_values(ascending=False), gct.sum(axis=1).sort_values(ascending=False)]))"
   ]
  },
  {
   "cell_type": "markdown",
   "metadata": {},
   "source": [
    "Putting everything together, \n",
    "\n",
    "The optimal lag order after variable reduction is 18."
   ]
  },
  {
   "cell_type": "code",
   "execution_count": null,
   "metadata": {},
   "outputs": [],
   "source": [
    "data = [tbill_3m, tbill_10y, cpiu, payroll, dtoe, pinvest, sp500_cape, gdp]\n",
    "data = reduce(lambda left,right: pd.merge(left,right,on='date'), data)\n",
    "data = data.set_index('date')\n",
    "\n",
    "data['tbill_10y'] = data['tbill_10y'] - data['tbill_3m']\n",
    "data = data.drop('tbill_3m', axis=1).rename(columns={'tbill_10y':'tbill'})\n",
    "\n",
    "data = data.drop(['tbill', 'cpiu'], axis=1)\n",
    "data_cube_root = data ** (1/3)\n",
    "data_trans = data_cube_root.diff(1).dropna()\n",
    "\n",
    "train, test = data[0:-test_periods], data[-test_periods:]\n",
    "train_trans = data_trans[0:-test_periods]\n",
    "\n",
    "lag_order = set_coint_lag_order(train_trans, det_order=-1, max_lag=36, significance=0.05)\n",
    "print('lag order:', lag_order)"
   ]
  },
  {
   "cell_type": "code",
   "execution_count": null,
   "metadata": {
    "scrolled": true
   },
   "outputs": [],
   "source": [
    "print(cointegration_test(train_trans, det_order=-1, lag_order=lag_order))\n",
    "\n",
    "generate_pval_map(train_trans, max_lag=lag_order)"
   ]
  },
  {
   "cell_type": "markdown",
   "metadata": {},
   "source": [
    "### VAR Model"
   ]
  },
  {
   "cell_type": "markdown",
   "metadata": {},
   "source": [
    "Running the following functions returns the VAR model. "
   ]
  },
  {
   "cell_type": "code",
   "execution_count": null,
   "metadata": {},
   "outputs": [],
   "source": [
    "train_model = VAR(train_trans)\n",
    "train_model_fitted = train_model.fit(lag_order)\n",
    "train_model_fitted.summary()"
   ]
  },
  {
   "cell_type": "markdown",
   "metadata": {},
   "source": [
    "#### Check for Residual Correlation with Durbin Watson Test"
   ]
  },
  {
   "cell_type": "markdown",
   "metadata": {},
   "source": [
    "If our transformation and lag order selection is done correctly, there should be little to no correlation between the residual errors. The existance of residual correlation implies unexplained pattern.\n",
    "\n",
    "Result values can range beween 0 to 4, with 0-2 indicating a positive correlation, and 2-4 indicating negative correlation. It is generally acceptable for values to be between 1.5 to 2.5."
   ]
  },
  {
   "cell_type": "code",
   "execution_count": null,
   "metadata": {},
   "outputs": [],
   "source": [
    "for col, val in zip(train_trans.columns, durbin_watson(train_model_fitted.resid)):\n",
    "    print((col), ':', round(val, 2))"
   ]
  },
  {
   "cell_type": "markdown",
   "metadata": {},
   "source": [
    "#### Forecasting GDP"
   ]
  },
  {
   "cell_type": "markdown",
   "metadata": {},
   "source": [
    "VAR model only takes in data specified within the lag order (18 samples). A common misunderstanding is that information outside of the specified range is lost, but this is not the case. The model does assumes data outside of the lag order to be irrelevant, because all 793 samples were fed into the model to derive the lag order."
   ]
  },
  {
   "cell_type": "code",
   "execution_count": null,
   "metadata": {},
   "outputs": [],
   "source": [
    "train_forecast_input = train_trans.values[-lag_order:]\n",
    "\n",
    "train_forecast = pd.DataFrame(train_model_fitted.forecast(train_forecast_input, test_periods), \n",
    "                        index=data.index[-test_periods:], \n",
    "                        columns=data.columns)\n",
    "\n",
    "train_forecast"
   ]
  },
  {
   "cell_type": "markdown",
   "metadata": {},
   "source": [
    "#### Inverting Transformation"
   ]
  },
  {
   "cell_type": "markdown",
   "metadata": {},
   "source": [
    "We have to reverse the first difference transformation, then add the baseline. Since we want to validate against the test dataset, we add back the last known training data."
   ]
  },
  {
   "cell_type": "code",
   "execution_count": null,
   "metadata": {},
   "outputs": [],
   "source": [
    "train_trans_cumsum = train_trans.cumsum()\n",
    "train_trans_cumsum.tail()\n",
    "\n",
    "train_forecast_reverse = (train_forecast.cumsum() + train_trans_cumsum.iloc[-1, :] + data_cube_root.iloc[0, :]) ** 3\n",
    "train_forecast_reverse"
   ]
  },
  {
   "cell_type": "code",
   "execution_count": null,
   "metadata": {},
   "outputs": [],
   "source": [
    "fig, axes = generate_subplots(train_forecast_reverse, row_wise=True)\n",
    "for i, (col,ax) in enumerate(zip(train_forecast_reverse.columns, axes.flatten())):\n",
    "    train_forecast_reverse[col].plot(color='red', label='prediction', legend=True, ax=ax).autoscale(axis='x',tight=True)\n",
    "    test[col].plot(color='blue', label='actual', legend=True, ax=ax);\n",
    "    ax.set_title(col + \": Forecast vs Actuals\")\n",
    "    ax.tick_params(which='major', labelsize=8)\n",
    "    ax.tick_params(which='minor', labelsize=6)\n",
    "    ax.legend(loc='upper left', fontsize=6)\n",
    "\n",
    "plt.tight_layout();"
   ]
  },
  {
   "cell_type": "markdown",
   "metadata": {},
   "source": [
    "At first glance, the model may exibit underfitting in *dtoe* and *sp500_cape*. To evaluate the model's accuracy, it is evaluated according to the following metrics:\n",
    "* Mean Absolute Percentage Error (MAPE)- Accuracy expressed as a percentage, the lower the value, the greater the accuracy. However, MAPE is not a good metric for tbill, as actual (denominator) approaches zero, the value of MAPE approaches infinity.\n",
    "* Correlation (CORR)- Correlation between prediction and actual data. Low values may suggest underfitting, while high values may suggest overfitting.\n",
    "\n",
    "Since we are not comparing between models, it is irrelevant to calculate Mean Absolute Error and Root Mean Squared Error."
   ]
  },
  {
   "cell_type": "code",
   "execution_count": null,
   "metadata": {},
   "outputs": [],
   "source": [
    "def forecast_accuracy(forecast, actual):\n",
    "    mape = np.mean(np.abs(forecast - actual) / np.abs(actual))\n",
    "#     mae = np.mean(np.abs(forecast - actual))\n",
    "#     rmse = np.mean((forecast - actual) ** 2) ** .5\n",
    "    corr = np.corrcoef(forecast, actual)[0,1]\n",
    "    return({'MAPE':mape, 'CORR':corr})\n",
    "#     return({'MAPE':mape, 'MAE': mae, 'RMSE':rmse, 'CORR':corr, 'MINMAX':minmax})"
   ]
  },
  {
   "cell_type": "code",
   "execution_count": null,
   "metadata": {},
   "outputs": [],
   "source": [
    "def print_forecast_accuracy(forecast, actual):\n",
    "    for c in forecast:\n",
    "        print('Forecast Accuracy of {}'.format(c))\n",
    "        accuracy_prod = forecast_accuracy(forecast[c].values, actual[c])\n",
    "        for k, v in accuracy_prod.items():\n",
    "            print(k, ': ', round(v,4))\n",
    "        print('\\n')\n",
    "\n",
    "print_forecast_accuracy(forecast=train_forecast_reverse, actual=test)"
   ]
  },
  {
   "cell_type": "markdown",
   "metadata": {},
   "source": [
    "#### Consolidate Formula"
   ]
  },
  {
   "cell_type": "markdown",
   "metadata": {},
   "source": [
    "To save time testing new parameters, let's consolidate the processing into a single function, at the same time expanding the amount of models it can generate at the same time to 4. Recessions generally do not last more than 2 years, so having 1 year prior and 1 year after helps to predict the onset and recovery. "
   ]
  },
  {
   "cell_type": "code",
   "execution_count": null,
   "metadata": {},
   "outputs": [],
   "source": [
    "def var_combined_processing(data_input, lag_order, start_date, test_periods):\n",
    "    '''return start date'''\n",
    "    start_date = pd.to_datetime(start_date)\n",
    "    '''return dates for graphing'''\n",
    "    data_baseline = data_input.loc[(data_input.index >= start_date - relativedelta(months=ceil(2 * test_periods))) & \n",
    "                                    (data_input.index <= start_date + relativedelta(months=ceil(2 * test_periods)))]\n",
    "    '''transform first difference'''\n",
    "    data_cube_root = data_input ** (1/3)\n",
    "    data_trans = data_cube_root.diff(1).dropna()\n",
    "    data_trans = data_trans.loc[data_trans.index <= start_date]\n",
    "    '''VAR model'''\n",
    "    model_fitted = VAR(data_trans).fit(lag_order)\n",
    "    forecast_trans = pd.DataFrame(\n",
    "        model_fitted.forecast(data_trans.values[-lag_order:], test_periods), \n",
    "        index=data_trans.index[-test_periods:], columns=data_trans.columns)\n",
    "    '''invert transformation'''\n",
    "    data_trans_cumsum = data_trans.iloc[data_trans.index <= start_date].squeeze().cumsum()\n",
    "    forecast_reverse = (forecast_trans.cumsum() + data_trans_cumsum.iloc[-1, :].squeeze() + data_cube_root.iloc[0, :]) ** 3\n",
    "    forecast_reverse.index = pd.date_range(start_date + relativedelta(months=1), start_date + \n",
    "                                           relativedelta(months=test_periods), freq='MS')\n",
    "#     return data_trans_cumsum\n",
    "    return data_baseline, forecast_reverse\n",
    "\n",
    "def var_combined(data_input, lag_order, start_date_1, start_date_2=None, start_date_3=None, start_date_4=None, test_periods=(2*lag_order)):\n",
    "    data_baseline, forecast_reverse_1 = var_combined_processing(data_input, lag_order, start_date_1, test_periods)\n",
    "    if start_date_2:\n",
    "        data_baseline_2, forecast_reverse_2 = var_combined_processing(data_input, lag_order, start_date_2, test_periods)\n",
    "        data_baseline.append(data_baseline_2)\n",
    "    if start_date_3:\n",
    "        data_baseline_3, forecast_reverse_3 = var_combined_processing(data_input, lag_order, start_date_3, test_periods)\n",
    "        data_baseline.append(data_baseline_3)\n",
    "    if start_date_4:\n",
    "        data_baseline_4, forecast_reverse_4 = var_combined_processing(data_input, lag_order, start_date_4, test_periods)\n",
    "        data_baseline.append(data_baseline_4)\n",
    "        \n",
    "    '''display graphs'''\n",
    "    fig, axes = generate_subplots(data_input, row_wise=True)\n",
    "    for i, (col,ax) in enumerate(zip(forecast_reverse_1.columns, axes.flatten())):\n",
    "        data_baseline[col].plot(color='blue', label='actual', legend=True, ax=ax)\n",
    "        forecast_reverse_1[col].plot(color='yellow', label=start_date_1, legend=True, ax=ax).autoscale(axis='x',tight=True);\n",
    "        if start_date_2:\n",
    "            forecast_reverse_2[col].plot(color='orange', label=start_date_2, legend=True, ax=ax).autoscale(axis='x',tight=True);\n",
    "        if start_date_3:\n",
    "            forecast_reverse_3[col].plot(color='red', label=start_date_3, legend=True, ax=ax).autoscale(axis='x',tight=True);\n",
    "        if start_date_4:\n",
    "            forecast_reverse_4[col].plot(color='brown', label=start_date_4, legend=True, ax=ax).autoscale(axis='x',tight=True);\n",
    "\n",
    "        ax.set_title(col + \": Forecast\")\n",
    "        ax.tick_params(which='major', labelsize=8)\n",
    "        ax.tick_params(which='minor', labelsize=6)\n",
    "        ax.legend(loc='upper left', fontsize=6)\n",
    "        plt.tight_layout();"
   ]
  },
  {
   "cell_type": "markdown",
   "metadata": {},
   "source": [
    "#### Forecasting"
   ]
  },
  {
   "cell_type": "code",
   "execution_count": null,
   "metadata": {},
   "outputs": [],
   "source": [
    "var_combined(data, lag_order=lag_order, start_date_1='2019, 4', test_periods=24)"
   ]
  },
  {
   "cell_type": "markdown",
   "metadata": {},
   "source": [
    "### Backtesting Against Past Recessions"
   ]
  },
  {
   "cell_type": "markdown",
   "metadata": {},
   "source": [
    "We will pick certain recessions to test our model, with different length of test periods relative to the length of the recession. "
   ]
  },
  {
   "cell_type": "markdown",
   "metadata": {},
   "source": [
    "#### 1973 Recession"
   ]
  },
  {
   "cell_type": "markdown",
   "metadata": {},
   "source": [
    "NBER classified 1973 recession from 1973/11 to 19735/3. This recession was caused by the Nixon Shock and oil supply shock, in contrast to to a typical recession, which are caused by overextension of credit."
   ]
  },
  {
   "cell_type": "code",
   "execution_count": null,
   "metadata": {},
   "outputs": [],
   "source": [
    "var_combined(data, lag_order=lag_order, start_date_1='1972, 11', start_date_2='1973, 11',\n",
    "             start_date_3='1974, 11', start_date_4='1975, 11', test_periods=48)"
   ]
  },
  {
   "cell_type": "markdown",
   "metadata": {},
   "source": [
    "#### 2001 Recession"
   ]
  },
  {
   "cell_type": "markdown",
   "metadata": {},
   "source": [
    "NBER classified 2001 recession from 2001/3 to 2001/11. This recession was relatively mild."
   ]
  },
  {
   "cell_type": "code",
   "execution_count": null,
   "metadata": {},
   "outputs": [],
   "source": [
    "var_combined(data, lag_order=lag_order, start_date_1='2000, 3', start_date_2='2001, 3',\n",
    "             start_date_3='2002, 3', test_periods=36)"
   ]
  },
  {
   "cell_type": "markdown",
   "metadata": {},
   "source": [
    "#### 2008 Recession"
   ]
  },
  {
   "cell_type": "markdown",
   "metadata": {},
   "source": [
    "NBER classified 2008 recession from 2007/12 to 2009/6."
   ]
  },
  {
   "cell_type": "code",
   "execution_count": null,
   "metadata": {},
   "outputs": [],
   "source": [
    "var_combined(data, lag_order=lag_order, start_date_1='2006, 12', start_date_2='2007, 12',\n",
    "             start_date_3='2008, 12', start_date_4='2009, 12', test_periods=48)"
   ]
  },
  {
   "cell_type": "markdown",
   "metadata": {},
   "source": [
    "## Findings"
   ]
  },
  {
   "cell_type": "markdown",
   "metadata": {},
   "source": [
    "The model inherits characteristics of its input lag data, and the data before a recession tends to be stable (same slope/low monthly difference) until the start of a recession. This leads to the model being ineffective at predicting the start of a recession, but could explain why the model performs better at predicting the recovery of a recession.\n",
    "\n",
    "The model have diminished accuracy after roughly 2 lag order periods have passed. "
   ]
  },
  {
   "cell_type": "markdown",
   "metadata": {},
   "source": [
    "## Limitations"
   ]
  },
  {
   "cell_type": "markdown",
   "metadata": {},
   "source": [
    "### Feature Selection"
   ]
  },
  {
   "cell_type": "markdown",
   "metadata": {},
   "source": [
    "This predictor does not pinpoint the cause of a recession, but makes a general comment about the state of the economy. The underlying assumption is that these inputs are efficient enough to reflect long term market conditions, but inefficient enough to price in the short term fluctuations in the variables."
   ]
  },
  {
   "cell_type": "markdown",
   "metadata": {},
   "source": [
    "### Data Tranformation"
   ]
  },
  {
   "cell_type": "markdown",
   "metadata": {},
   "source": [
    "VAR requires data to be stationary and cointegration, but [not all transformation methods are created equal](http://fmwww.bc.edu/repec/bocode/t/transint.html). The method chosen have a direct impact on the result. Also, whether we should discriminate different transformation method on each variable is still hotly debated among the data science community."
   ]
  },
  {
   "cell_type": "markdown",
   "metadata": {},
   "source": [
    "### VAR Model"
   ]
  },
  {
   "cell_type": "markdown",
   "metadata": {},
   "source": [
    "**The VAR model here is a reduced form version, which helps to overcome parameter identification problem, where it becomes impossible to identify the best estimate of a variable, due to the sharing of **"
   ]
  },
  {
   "cell_type": "markdown",
   "metadata": {},
   "source": [
    "## Conclusion"
   ]
  },
  {
   "cell_type": "markdown",
   "metadata": {},
   "source": [
    "To truly know which variables, processes, and methods are optimal, is by quickly deploying models and compare against each other, instead of "
   ]
  },
  {
   "cell_type": "markdown",
   "metadata": {},
   "source": [
    "## Part 2"
   ]
  },
  {
   "cell_type": "markdown",
   "metadata": {},
   "source": [
    "#### Data Preparation"
   ]
  },
  {
   "cell_type": "markdown",
   "metadata": {},
   "source": [
    "Let's set up recession decision variable. Difficulty joining series, so had to convert to list, append, then reconvert to series."
   ]
  },
  {
   "cell_type": "code",
   "execution_count": null,
   "metadata": {},
   "outputs": [],
   "source": [
    "# possible to create lambda variables?\n",
    "r_1953 = pd.Series(pd.date_range(pd.to_datetime('1953, 3, 1'), pd.to_datetime('1954, 5, 1'))).tolist()\n",
    "r_1957 = pd.Series(pd.date_range(pd.to_datetime('1957, 8, 1'), pd.to_datetime('1958, 4, 1'))).tolist()\n",
    "r_1960 = pd.Series(pd.date_range(pd.to_datetime('1960, 4, 1'), pd.to_datetime('1961, 2, 1'))).tolist()\n",
    "r_1962 = pd.Series(pd.date_range(pd.to_datetime('1969, 12, 1'), pd.to_datetime('1970, 11, 1'))).tolist()\n",
    "r_1973 = pd.Series(pd.date_range(pd.to_datetime('1973, 11, 1'), pd.to_datetime('1975, 3, 1'))).tolist()\n",
    "r_1980 = pd.Series(pd.date_range(pd.to_datetime('1980, 1, 1'), pd.to_datetime('1980, 7, 1'))).tolist()\n",
    "r_1981 = pd.Series(pd.date_range(pd.to_datetime('1981, 7, 1'), pd.to_datetime('1982, 11, 1'))).tolist()\n",
    "r_1990 = pd.Series(pd.date_range(pd.to_datetime('1990, 7, 1'), pd.to_datetime('1991, 3, 1'))).tolist()\n",
    "r_2001 = pd.Series(pd.date_range(pd.to_datetime('2001, 3, 1'), pd.to_datetime('2001, 11, 1'))).tolist()\n",
    "r_2007 = pd.Series(pd.date_range(pd.to_datetime('2007, 12, 1'), pd.to_datetime('2009, 6, 1'))).tolist()\n",
    "\n",
    "print('Original series length:', len(r_1953))\n",
    "\n",
    "recession_months = pd.Series(r_1953 + r_1957 + r_1960 + r_1962 + r_1973 + r_1980 + r_1981 + r_1990 + r_2001 + r_2007)\n",
    "\n",
    "# Create a DataFrame for recession\n",
    "start_date = pd.to_datetime('1953, 4')\n",
    "end_date = pd.to_datetime('today')\n",
    "recessions = pd.date_range(start_date, end_date, freq='MS')\n",
    "recessions = recessions.to_frame().reset_index()\n",
    "\n",
    "# Mark recession months as 1, non-recession months as 0\n",
    "recessions.iloc[:,1] = 0\n",
    "recessions.loc[recessions.iloc[:,0].isin(recession_months), 0] = 1\n",
    "recessions.rename(columns={'index':'date', 0:'recession'}, inplace=True)\n",
    "\n",
    "\n",
    "print('Verify series was appended:', len(recession_months))\n",
    "\n",
    "recessions.iloc[15:20]"
   ]
  }
 ],
 "metadata": {
  "kernelspec": {
   "display_name": "Python 3",
   "language": "python",
   "name": "python3"
  },
  "language_info": {
   "codemirror_mode": {
    "name": "ipython",
    "version": 3
   },
   "file_extension": ".py",
   "mimetype": "text/x-python",
   "name": "python",
   "nbconvert_exporter": "python",
   "pygments_lexer": "ipython3",
   "version": "3.7.4"
  }
 },
 "nbformat": 4,
 "nbformat_minor": 2
}
